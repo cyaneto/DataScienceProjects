{
 "cells": [
  {
   "cell_type": "markdown",
   "id": "ab6c4b82",
   "metadata": {},
   "source": [
    "## Esse aluguel está caro? \n",
    "### Um projeto de webscraping e Machine Learning (versão 1)\n",
    "\n",
    "Quem tem apartamento alugado ja sabe: deu um ano? o preço aumenta. A grande maioria dos contratos de alguel tem como claussula de reajuste para 1 ano depois de morar no imovel, ajustado de acordo com o IGP-M acumulado de um ano. Só que, diferente dos ultimos 20 anos, o IGP-M está muito alto hoje em dia (2021), o que esta causando um aumento absurdo nos valores de aluguel dos Millenials por aí.\n",
    "\n",
    "\n",
    "GRAFICO DO IGPM\n",
    "\n",
    "O mesmo aconteceu aqui em casa. Fez um ano agora em Julho que eu me mudei para morar com meu namorado, e o nosso aluguel (que era 800 reais) subiria bastante para os padrões desse apartamento (1040 reais num apartamento 2 quartos que nem interfone tem não dá ne). Felizmente a gente conseguiu conversar com o proprietario e estabelecemos um aumento justo (para 880 reais). Mas ainda assim eu fiquei com aquela duvida: Será que esse aumento é justo para os apartamentos da vizinhança.\n",
    "\n",
    "E foi assim que surgiu esse projeto: para responder a pergunta \"O meu aluguel está caro?\" vamos usarr algumas bibliotecas de python, os meus conhecimentos quase nulos em HTML (o deficit do jovem que nunca teve um tumblr) e os anuncios do ZAP Imoveis, OLX e VivaReal num modelo de aprendizado de maquina.\n"
   ]
  },
  {
   "cell_type": "markdown",
   "id": "64179b54",
   "metadata": {},
   "source": [
    "Quem tem experiencia na cozinha, quando vai fazer alguma receita, sempre começa reunindo os ingredientes. O mesmo vale por aqui, vamos começar importanto os bibliotecas e estabelecendo algumas propriedades do servidor para o nosso webscrapping."
   ]
  },
  {
   "cell_type": "code",
   "execution_count": 2,
   "id": "04ddc3dd",
   "metadata": {
    "ExecuteTime": {
     "end_time": "2021-09-23T11:55:25.236526Z",
     "start_time": "2021-09-23T11:55:22.532066Z"
    }
   },
   "outputs": [],
   "source": [
    "from bs4 import BeautifulSoup\n",
    "from requests import get\n",
    "import pandas as pd\n",
    "import itertools\n",
    "import matplotlib.pyplot as plt\n",
    "import seaborn as sns\n",
    "import numpy as np\n",
    "import re\n",
    "sns.set()"
   ]
  },
  {
   "cell_type": "code",
   "execution_count": 3,
   "id": "51e8aeae",
   "metadata": {
    "ExecuteTime": {
     "end_time": "2021-09-23T11:55:25.282530Z",
     "start_time": "2021-09-23T11:55:25.269527Z"
    }
   },
   "outputs": [],
   "source": [
    "headers = ({'User-Agent':\n",
    "            'Mozilla/5.0 (Windows NT 6.1) AppleWebKit/537.36 (KHTML, like Gecko) Chrome/41.0.2228.0 Safari/537.36'})"
   ]
  },
  {
   "cell_type": "markdown",
   "id": "ef8e74b6",
   "metadata": {},
   "source": [
    "### Testes\n",
    "\n",
    "\n",
    "Vamos agora explorar a estrutura das plataformas que vamos usar para depois automatizar a raspagem dos dados. Precisamso saber onde cada dado dos anuncios está no código fonte do site e como essas 'localizações' podem variar no texto. O primeiro  a ser testado é o do ZAP imoveis\n",
    "\n",
    "\n"
   ]
  },
  {
   "cell_type": "markdown",
   "id": "0763b357",
   "metadata": {},
   "source": [
    "#### ZAP imoveis\n",
    "\n",
    "\n",
    "O que eu fiz aqui foi extrair o codigo fonte de uma pagina do ZAP imoveis. Mais especificamente dessa pagina [aqui][zap]. Nessa pagina tem imoveis do meu bairro e bairros vizinhos, que é exatamente o conjunto de dados que eu quero para esse projeto.\n",
    "\n",
    "\n",
    "\n",
    "[zap]: https://www.zapimoveis.com.br/aluguel/apartamentos/mg+belo-horizonte++liberdade/?pagina=2&onde=,Minas%20Gerais,Belo%20Horizonte,,Liberdade,,,,BR%3EMinas%20Gerais%3ENULL%3EBelo%20Horizonte%3EBarrios%3ELiberdade,-19.865305,-43.952023%3B,Minas%20Gerais,Belo%20Horizonte,,Ouro%20Preto,,,,BR%3EMinas%20Gerais%3ENULL%3EBelo%20Horizonte%3EBarrios%3EOuro%20Preto,-19.874898,-43.992275%3B,Minas%20Gerais,Belo%20Horizonte,,S%C3%A3o%20Francisco,,,,BR%3EMinas%20Gerais%3ENULL%3EBelo%20Horizonte%3EBarrios%3ESao%20Francisco,-19.877506,-43.956058%3B,Minas%20Gerais,Belo%20Horizonte,,S%C3%A3o%20Lu%C3%ADz,,,,BR%3EMinas%20Gerais%3ENULL%3EBelo%20Horizonte%3EBarrios%3ESao%20Luiz,-19.857363,-43.967109%3B,Minas%20Gerais,Belo%20Horizonte,,Jaragu%C3%A1,,,,BR%3EMinas%20Gerais%3ENULL%3EBelo%20Horizonte%3EBarrios%3EJaragua,-19.858255,-43.952023&transacao=Aluguel&tipo=Im%C3%B3vel%20usado&tipoUnidade=Residencial,Apartamento\n"
   ]
  },
  {
   "cell_type": "code",
   "execution_count": 4,
   "id": "95b21666",
   "metadata": {
    "ExecuteTime": {
     "end_time": "2021-09-23T11:55:27.217677Z",
     "start_time": "2021-09-23T11:55:25.316533Z"
    }
   },
   "outputs": [],
   "source": [
    "zap=\"https://www.zapimoveis.com.br/aluguel/apartamentos/mg+belo-horizonte++liberdade/?pagina=2&onde=,Minas%20Gerais,Belo%20Horizonte,,Liberdade,,,,BR%3EMinas%20Gerais%3ENULL%3EBelo%20Horizonte%3EBarrios%3ELiberdade,-19.865305,-43.952023%3B,Minas%20Gerais,Belo%20Horizonte,,Ouro%20Preto,,,,BR%3EMinas%20Gerais%3ENULL%3EBelo%20Horizonte%3EBarrios%3EOuro%20Preto,-19.874898,-43.992275%3B,Minas%20Gerais,Belo%20Horizonte,,S%C3%A3o%20Francisco,,,,BR%3EMinas%20Gerais%3ENULL%3EBelo%20Horizonte%3EBarrios%3ESao%20Francisco,-19.877506,-43.956058%3B,Minas%20Gerais,Belo%20Horizonte,,S%C3%A3o%20Lu%C3%ADz,,,,BR%3EMinas%20Gerais%3ENULL%3EBelo%20Horizonte%3EBarrios%3ESao%20Luiz,-19.857363,-43.967109%3B,Minas%20Gerais,Belo%20Horizonte,,Jaragu%C3%A1,,,,BR%3EMinas%20Gerais%3ENULL%3EBelo%20Horizonte%3EBarrios%3EJaragua,-19.858255,-43.952023&transacao=Aluguel&tipo=Im%C3%B3vel%20usado&tipoUnidade=Residencial,Apartamento\"\n",
    "response = get(zap, headers=headers)"
   ]
  },
  {
   "cell_type": "code",
   "execution_count": 5,
   "id": "3f7e253c",
   "metadata": {
    "ExecuteTime": {
     "end_time": "2021-09-23T11:55:27.265679Z",
     "start_time": "2021-09-23T11:55:27.252681Z"
    }
   },
   "outputs": [
    {
     "name": "stdout",
     "output_type": "stream",
     "text": [
      "<Response [200]>\n"
     ]
    }
   ],
   "source": [
    "print(response) #dizem que response [200] é o sinal de que está funcionando."
   ]
  },
  {
   "cell_type": "code",
   "execution_count": 6,
   "id": "d9d0e122",
   "metadata": {
    "ExecuteTime": {
     "end_time": "2021-09-23T11:55:27.441553Z",
     "start_time": "2021-09-23T11:55:27.299682Z"
    }
   },
   "outputs": [],
   "source": [
    "html_soup = BeautifulSoup(response.text, 'html.parser')"
   ]
  },
  {
   "cell_type": "markdown",
   "id": "28fa464d",
   "metadata": {},
   "source": [
    "Aqui fizemos alguns protocolos para raspagem de dados em HTML, eu não entendo muito dessas coisas então nõ voi me aprofundar aqui, o importante é que funciona. Você pode encontrar mais informações para esse texto [aqui][webscraping].\n",
    "\n",
    "\n",
    "[webscraping]:https://medium.com/@fneves/looking-for-a-house-build-a-web-scraper-to-help-you-5ab25badc83e"
   ]
  },
  {
   "cell_type": "code",
   "execution_count": 7,
   "id": "a832b5a8",
   "metadata": {
    "ExecuteTime": {
     "end_time": "2021-09-23T11:55:29.107537Z",
     "start_time": "2021-09-23T11:55:27.712896Z"
    }
   },
   "outputs": [
    {
     "name": "stdout",
     "output_type": "stream",
     "text": [
      "quartos:  3\n"
     ]
    }
   ],
   "source": [
    "zap = \"https://www.zapimoveis.com.br/aluguel/apartamentos/mg+belo-horizonte++liberdade/?onde=,Minas%20Gerais,Belo%20Horizonte,,Liberdade,,,neighborhood,BR%3EMinas%20Gerais%3ENULL%3EBelo%20Horizonte%3EBarrios%3ELiberdade,-19.865305,-43.952023%3B,Minas%20Gerais,Belo%20Horizonte,,Ouro%20Preto,,,neighborhood,BR%3EMinas%20Gerais%3ENULL%3EBelo%20Horizonte%3EBarrios%3EOuro%20Preto,-19.874898,-43.992275%3B,Minas%20Gerais,Belo%20Horizonte,,S%C3%A3o%20Francisco,,,neighborhood,BR%3EMinas%20Gerais%3ENULL%3EBelo%20Horizonte%3EBarrios%3ESao%20Francisco,-19.877506,-43.956058%3B,Minas%20Gerais,Belo%20Horizonte,,S%C3%A3o%20Lu%C3%ADz,,,neighborhood,BR%3EMinas%20Gerais%3ENULL%3EBelo%20Horizonte%3EBarrios%3ESao%20Luiz,-19.857363,-43.967109%3B,Minas%20Gerais,Belo%20Horizonte,,Jaragu%C3%A1,,,neighborhood,BR%3EMinas%20Gerais%3ENULL%3EBelo%20Horizonte%3EBarrios%3EJaragua,-19.858255,-43.952023&transacao=Aluguel&tipoUnidade=Residencial,Apartamento&tipo=Im%C3%B3vel%20usado&pagina=1\"\n",
    "response = get(zap, headers=headers)\n",
    "html_soup = BeautifulSoup(response.text, 'html.parser')\n",
    "\n",
    "house_containers_zap = html_soup.find_all('div', class_=\"simple-card__box\")\n",
    "first_zap = house_containers_zap[0]\n",
    "test_zap = first_zap.find_all(['span', 'p'])[15].text\n",
    "test_zap = re.sub(\"[^0-9]\", \"\", test_zap)\n",
    "print('quartos: ', test_zap)"
   ]
  },
  {
   "cell_type": "markdown",
   "id": "bbd20dbe",
   "metadata": {},
   "source": [
    "A primeira tentativa de extração dos dados da ZAP moveis eu estava fazendo com base na posiçao de cada elemento no texto, sendo que esse método, embora mais facil para os inciantes, é mais complexo e menos eficiente dado que as coisas podem mudar de posição a depender do conteúdo do anuncio.  Por isso, mais tarde ao analisar os conteudos do viva real eu refiz a função de extração de dados do Zap imoveis e ficou bem mais eficiente. De toda forma, a ideia aqui  era extrair os dados de cada anuncio com base na classe de cada cartão. Para descobrir a classe de cada anuncio eu apertei F12 na pagina do Zap e fui inspecionando cada elemento usando o botão direito do mouse e indo em \"inspecionar\". Falando assim parece ate bem complexo, mas na pratica é muito simples ;)"
   ]
  },
  {
   "cell_type": "markdown",
   "id": "327958c3",
   "metadata": {},
   "source": [
    "#### Testando na olx\n",
    "\n",
    "A proxima plataforma a ser explorada foi a OLX. Ela é mais simples de interagir com o site porque as informações ficam todas num bloco de texto só. Mas exigiu de mim extrair os dados com base no conteudo em texto, que é ate ok de se fazer. Os protocolos são os mesmos da parte anterior."
   ]
  },
  {
   "cell_type": "code",
   "execution_count": 8,
   "id": "1b7465c9",
   "metadata": {
    "ExecuteTime": {
     "end_time": "2021-09-23T11:55:31.737056Z",
     "start_time": "2021-09-23T11:55:29.275101Z"
    }
   },
   "outputs": [],
   "source": [
    "olx = \"https://mg.olx.com.br/belo-horizonte-e-regiao/pampulha/imoveis/aluguel/apartamentos?pe=1300&ps=600&roe=2&ros=1\"\n",
    "response = get(olx, headers=headers)\n",
    "html_soup = BeautifulSoup(response.text, 'html.parser')\n",
    "\n",
    "house_containers_olx = html_soup.find_all('a', class_=\"fnmrjs-0 fyjObc\")\n",
    "\n",
    "test_olx = house_containers_olx[10].find_all(['span', 'p'])\n",
    "#first_quinto = house_containers_quinto[0]"
   ]
  },
  {
   "cell_type": "code",
   "execution_count": 9,
   "id": "49a16b18",
   "metadata": {
    "ExecuteTime": {
     "end_time": "2021-09-23T11:55:32.055174Z",
     "start_time": "2021-09-23T11:55:32.041175Z"
    }
   },
   "outputs": [
    {
     "name": "stdout",
     "output_type": "stream",
     "text": [
      "especificacoes= 2 quartos | 72m² | Condomínio: R$ 311 | 1 vaga\n",
      "aluguel= R$ 1.250\n",
      "localizaçao= Belo Horizonte, São Luiz\n"
     ]
    }
   ],
   "source": [
    "print(\"especificacoes=\",test_olx[1].text)\n",
    "print(\"aluguel=\",test_olx[2].text)\n",
    "print(\"localizaçao=\",test_olx[5].text)"
   ]
  },
  {
   "cell_type": "markdown",
   "id": "d39bf5a0",
   "metadata": {},
   "source": [
    "Aqui vemos que as especificações do apartamento são um pedaço de texto só, enquanto o aluguel e a localização tem um cartão separado. Para quem nunca interagiu com sites dessa forma antes e está afim de explorar dados de venda ou aluguel de coisas e imoveis eu recomendo bastante começar pela OLX por causa disso. Pela OLX também tem uma vantagem de que no anuncio o aluguel, a descriçao e a localização tem posições muito bem estabelecidas, o que é outra facilidade de interagir com a plataforma."
   ]
  },
  {
   "cell_type": "markdown",
   "id": "d20204c8",
   "metadata": {},
   "source": [
    "#### Viva Real\n",
    "\n",
    "A ultima plataforma na qual eu testei a extração de dados foi na viva real, que funciona mais ou menos como a do Zap imoveis. A diferença principal entre as duas é que a do Zap tem uma variação estavel da posição dos objetos no bloco do anúncio, enquanto no viva real  um mesmo objeto (como por exemplo o condominio) pode estar desde a posição 29 no texto ate a posição 39, o que é bastante coisa e exigiu de mim desenvolver umafunção so para procurar cada objeto no bloco de texto do anúncio. Os procedimentos são os mesmos anteriores."
   ]
  },
  {
   "cell_type": "code",
   "execution_count": 10,
   "id": "f85b76a5",
   "metadata": {
    "ExecuteTime": {
     "end_time": "2021-09-23T11:55:33.858608Z",
     "start_time": "2021-09-23T11:55:32.374131Z"
    }
   },
   "outputs": [],
   "source": [
    "vivareal = \"https://www.vivareal.com.br/aluguel/minas-gerais/belo-horizonte/bairros/liberdade/apartamento_residencial/#onde=BR-Minas_Gerais-NULL-Belo_Horizonte-Barrios-Liberdade,BR-Minas_Gerais-NULL-Belo_Horizonte-Barrios-Ouro_Preto,BR-Minas_Gerais-NULL-Belo_Horizonte-Barrios-Sao_Luiz,BR-Minas_Gerais-NULL-Belo_Horizonte-Barrios-Sao_Jose,BR-Minas_Gerais-NULL-Belo_Horizonte-Barrios-Sao_Francisco,BR-Minas_Gerais-NULL-Belo_Horizonte-Barrios-Jaragua,BR-Minas_Gerais-NULL-Belo_Horizonte-Barrios-Bandeirantes\"\n",
    "response = get(vivareal, headers=headers)\n",
    "html_soup = BeautifulSoup(response.text, 'html.parser')\n",
    "\n",
    "house_containers_vivareal = html_soup.find_all('div',\n",
    "                                               class_=\"js-card-selector\")\n",
    "\n",
    "test_vivareal = house_containers_vivareal[10].find_all(['span', 'p'])\n",
    "#first_quinto = house_containers_quinto[0]"
   ]
  },
  {
   "cell_type": "code",
   "execution_count": 11,
   "id": "11755ce0",
   "metadata": {
    "ExecuteTime": {
     "end_time": "2021-09-23T11:55:34.381686Z",
     "start_time": "2021-09-23T11:55:34.368123Z"
    }
   },
   "outputs": [
    {
     "name": "stdout",
     "output_type": "stream",
     "text": [
      "quartos=  3 \n",
      "area=  85 \n",
      "banheiros=  2 \n",
      "garagens=  1 \n",
      "aluguel=   R$ 1.500 /Mês \n",
      "localizaçao= Liberdade, Belo Horizonte - MG\n"
     ]
    }
   ],
   "source": [
    "print(\"quartos=\", test_vivareal[7].text)\n",
    "print(\"area=\", test_vivareal[5].text)\n",
    "print(\"banheiros=\", test_vivareal[9].text)\n",
    "print(\"garagens=\", test_vivareal[11].text)\n",
    "print(\"aluguel=\", test_vivareal[13].text)\n",
    "print(\"localizaçao=\", test_vivareal[3].text)"
   ]
  },
  {
   "cell_type": "markdown",
   "id": "6c4b377d",
   "metadata": {},
   "source": [
    "Aqui temos a extração dos dados naquele mesmo primeiro modelo de se basear nas posições. Mas vamos automatizar isso melhor mais pra frente."
   ]
  },
  {
   "cell_type": "markdown",
   "id": "35c75a03",
   "metadata": {},
   "source": [
    " ### Extração dos dados\n",
    " \n",
    " Aqui eu vou criar uma serie de funções pra automatiza a extração dos meus dados das 3 plataformas. As duas primeiras qe eu criei não tem a ver com alguma plataforma em especifico. A primeira é: "
   ]
  },
  {
   "cell_type": "code",
   "execution_count": 12,
   "id": "ac0e230e",
   "metadata": {
    "ExecuteTime": {
     "end_time": "2021-09-23T11:55:41.001458Z",
     "start_time": "2021-09-23T11:55:40.976704Z"
    }
   },
   "outputs": [],
   "source": [
    "def return_patterned_housings(aluguel, localizacao, quartos, condominio, iptu,\n",
    "                              area, banheiros, garagens, host):\n",
    "    return [\n",
    "        aluguel, localizacao, quartos, condominio, iptu, area, banheiros,\n",
    "        garagens, host\n",
    "    ]"
   ]
  },
  {
   "cell_type": "markdown",
   "id": "88b70d52",
   "metadata": {},
   "source": [
    "Essa função serve apenas para organizar os dados de cada uma das plataformas de forma padronizada. Assim não teremos problema com dados fora de ordem e tudo mais.\n",
    "\n",
    "A segunda função:"
   ]
  },
  {
   "cell_type": "code",
   "execution_count": 13,
   "id": "e15e2747",
   "metadata": {
    "ExecuteTime": {
     "end_time": "2021-09-23T11:55:41.593906Z",
     "start_time": "2021-09-23T11:55:41.579906Z"
    }
   },
   "outputs": [],
   "source": [
    "def get_card_values(text, attr, attr_name, regex=\"[^0-9]\", regex_div=''):\n",
    "    for line in text:\n",
    "        if line.has_attr(attr):\n",
    "            if any(word in [attr_name] for word in line[attr]):\n",
    "                ret = re.sub(regex, regex_div, line.text)\n",
    "                if ret == '':\n",
    "                    return 0\n",
    "                else:\n",
    "                    return ret\n",
    "    return 0"
   ]
  },
  {
   "cell_type": "markdown",
   "id": "e705f30c",
   "metadata": {},
   "source": [
    " Serve para achar no texto uma determinada classe ou propriedade e retornar ela formatada de acordo com o que a gente quer (se for por exemplo numero de quartos retornará apaenas os numeros e etc). Ela tem varios 'if' no meio dela por causa do debugging, e ela foi escrita depois de eu ter teimado bastante em tentar extrair os dados com base na posição.\n",
    " \n",
    " \n",
    " #### Zap imoveis\n",
    " \n",
    " \n",
    " O primeiro site a ser explorado é o Zap imoveis. A função que extrai os dados de u anuncio usa a função anterior para pegar cada dado com base na classe do objeto HTML. pra achar as classes de cada item foi o mesmo esquema de  achar a classe dos anuncios, indo no F12 e inspecionar."
   ]
  },
  {
   "cell_type": "code",
   "execution_count": 14,
   "id": "e26fe831",
   "metadata": {
    "ExecuteTime": {
     "end_time": "2021-09-23T11:55:42.317649Z",
     "start_time": "2021-09-23T11:55:42.297651Z"
    }
   },
   "outputs": [],
   "source": [
    "def get_zap(anuncio):\n",
    "    anuncio_data = anuncio.find_all(['p', 'span', 'li'])\n",
    "    anuncio_data_aluguel = get_card_values(anuncio_data, 'class', \"js-price\")\n",
    "    anuncio_data_localizacao = get_card_values(anuncio_data,\n",
    "                                               'class',\n",
    "                                               \"simple-card__address\",\n",
    "                                               regex=r'[^\\w]',\n",
    "                                               regex_div=' ')\n",
    "    anuncio_data_quartos = get_card_values(anuncio_data, 'class',\n",
    "                                           \"js-bedrooms\")\n",
    "    anuncio_data_area = get_card_values(anuncio_data, 'class', \"js-areas\")\n",
    "    anuncio_data_banheiros = get_card_values(anuncio_data, 'class',\n",
    "                                             \"js-bathrooms\")\n",
    "    anuncio_data_garagem = get_card_values(anuncio_data, 'class',\n",
    "                                           \"js-parking-spaces\")\n",
    "    anuncio_data_condominio = get_card_values(anuncio_data, 'class',\n",
    "                                              \"condominium\")\n",
    "\n",
    "    anuncio_data_iptu = get_card_values(anuncio_data, 'class', 'iptu')\n",
    "\n",
    "    return return_patterned_housings(aluguel=float(anuncio_data_aluguel),\n",
    "                                     localizacao=anuncio_data_localizacao,\n",
    "                                     quartos=int(anuncio_data_quartos),\n",
    "                                     condominio=float(anuncio_data_condominio),\n",
    "                                     iptu=float(50),\n",
    "                                     area=float(anuncio_data_area),\n",
    "                                     banheiros=int(anuncio_data_banheiros),\n",
    "                                     garagens=int(anuncio_data_garagem),\n",
    "                                     host='zap')"
   ]
  },
  {
   "cell_type": "markdown",
   "id": "c4d14039",
   "metadata": {},
   "source": [
    "Fazendo um teste rodando em todos os anuncios de uma pagina o zap:"
   ]
  },
  {
   "cell_type": "code",
   "execution_count": 15,
   "id": "9b05cafe",
   "metadata": {
    "ExecuteTime": {
     "end_time": "2021-09-23T11:55:42.988043Z",
     "start_time": "2021-09-23T11:55:42.971041Z"
    },
    "scrolled": true
   },
   "outputs": [
    {
     "name": "stdout",
     "output_type": "stream",
     "text": [
      "[1550.0, '           Rua dos Aeronautas  Liberdade         ', 3, 250.0, 50.0, 79.0, 3, 1, 'zap']\n",
      "[1100.0, '           Liberdade  Belo Horizonte         ', 2, 321.0, 50.0, 57.0, 1, 1, 'zap']\n",
      "[1684.0, '           Rua Professor Almeida Cunha  São Luíz         ', 3, 320.0, 50.0, 75.0, 2, 0, 'zap']\n",
      "[1350.0, '           Rua Expedicionário Mário Alves de Oliveira  São Luíz         ', 1, 0.0, 50.0, 50.0, 1, 1, 'zap']\n",
      "[1500.0, '           Rua Sena Madureira  Ouro Preto         ', 3, 657.0, 50.0, 100.0, 3, 2, 'zap']\n"
     ]
    }
   ],
   "source": [
    "for anuncio in house_containers_zap[0:5]:\n",
    "    print(get_zap(anuncio))"
   ]
  },
  {
   "cell_type": "markdown",
   "id": "cea021dd",
   "metadata": {},
   "source": [
    "Depois de muito debugging e testes, a função roda lisa :D."
   ]
  },
  {
   "cell_type": "markdown",
   "id": "0b7b2262",
   "metadata": {},
   "source": [
    "#### Olx\n",
    "A proxima função é a de extrair dados de um anuncio da Olx. essa função primeiro separa o aluguele  a localização que têm classe separada, e em seguida analisa o texto da descrição procurando as palavras 'quarto',  'Condomínio', 'm²' e 'vaga' e extraindo os numeros que vem logo antes desssas palavras para extrair esses dados. Os anuncios da Olx tiveram um bug peculiar de que alguns anuncior eram desativados mas continuavam no texto do site, e a função tava detectando esses apartamentos. Para contornar isso o que eu fiz foi olhar para a localização, os anuncios desativados não tinham localização, entao bastou eu colocar o programa para ignorar os anuncios que não tem \"Belo\" (de Belo Horizonte) escrito na localização. Os anuncios da olx não tinham o IPTu registrado, então eu estimei um valor de mais ou menos 7% do aluguel, que é o que eu pagava no apartamento anterior).\n",
    "\n",
    "Essa função está cheia de ifs porque os anuncios da Olx tem uma boa parte dos dados faltando. Para contornar isso o que eu asssumi foi que:\n",
    "* Se não tem vagas de garagem na descrição é porque simplesmente não tem\n",
    "* Se não tem quartos na descrição é porque tem 1 quarto\n",
    "* Se não tem banheiros na descrição é porque tem 1 banheiro (se tiver so 1 quarto) ou numero_de_banheiros-1 (se tiver mais de 1 quarto)"
   ]
  },
  {
   "cell_type": "code",
   "execution_count": 16,
   "id": "55bb9f2a",
   "metadata": {
    "ExecuteTime": {
     "end_time": "2021-09-23T11:55:48.008295Z",
     "start_time": "2021-09-23T11:55:47.985294Z"
    }
   },
   "outputs": [],
   "source": [
    "def get_olx(anuncio):\n",
    "    anuncio_data = anuncio.find_all(['span', 'p'])\n",
    "    anuncio_data_aluguel = re.sub(\"[^0-9]\", \"\", anuncio_data[2].text)\n",
    "    anuncio_data_localizacao = re.sub(r'[^\\w]', \" \", anuncio_data[5].text)\n",
    "\n",
    "    if anuncio_data_localizacao.find('Belo') == -1:\n",
    "        return\n",
    "\n",
    "    if anuncio_data[1].text.find('quarto') > -1:\n",
    "        if re.sub(\n",
    "                \"[^0-9]\", \"\",\n",
    "                anuncio_data[1].text[anuncio_data[1].text.find('quarto') -\n",
    "                                     2]) == '':\n",
    "            anuncio_data_quartos = 1\n",
    "        else:\n",
    "            anuncio_data_quartos = int(\n",
    "                re.sub(\n",
    "                    \"[^0-9]\", \"\",\n",
    "                    anuncio_data[1].text[anuncio_data[1].text.find('quarto') -\n",
    "                                         2]))\n",
    "            \n",
    "    else:\n",
    "        anuncio_data_quartos = 1\n",
    "\n",
    "    if anuncio_data[1].text.find('Condomínio') > -1:\n",
    "        anuncio_data_condominio = re.sub(\n",
    "            \"[^0-9]\", \"\",\n",
    "            anuncio_data[1].text[anuncio_data[1].text.find('Condomínio') +\n",
    "                                 12:anuncio_data[1].text.find('Condomínio') +\n",
    "                                 18])\n",
    "    else:\n",
    "        anuncio_data_condominio = 0\n",
    "\n",
    "    if anuncio_data[1].text.find('vaga') > -1:\n",
    "        anuncio_data_garagem = re.sub(\n",
    "            \"[^0-9]\", \"\",\n",
    "            anuncio_data[1].text[anuncio_data[1].text.find('vaga') - 2])\n",
    "        if anuncio_data_garagem == '':\n",
    "            anuncio_data_garagem = 0\n",
    "    else:\n",
    "        anuncio_data_garagem = 1\n",
    "\n",
    "    if anuncio_data[1].text.find('m²') > -1:\n",
    "        anuncio_data_area = re.sub(\n",
    "            \"[^0-9]\", \"\",\n",
    "            anuncio_data[1].text[anuncio_data[1].text.find('m²') -\n",
    "                                 3:anuncio_data[1].text.find('m²')])\n",
    "        if anuncio_data_area == '':\n",
    "            anuncio_data_area = 10\n",
    "    else:\n",
    "        anuncio_data_area = 30\n",
    "\n",
    "    if anuncio_data_quartos == 1:\n",
    "        anuncio_data_banheiros = 1\n",
    "    else:\n",
    "        anuncio_data_banheiros = anuncio_data_quartos - 1\n",
    "\n",
    "    return return_patterned_housings(aluguel=float(anuncio_data_aluguel),\n",
    "                                     localizacao=anuncio_data_localizacao,\n",
    "                                     quartos=int(anuncio_data_quartos),\n",
    "                                     condominio=float(anuncio_data_condominio),\n",
    "                                     iptu=float(anuncio_data_aluguel)*0.07,\n",
    "                                     area=float(anuncio_data_area),\n",
    "                                     banheiros=int(anuncio_data_banheiros),\n",
    "                                     garagens=int(anuncio_data_garagem),\n",
    "                                     host='olx')"
   ]
  },
  {
   "cell_type": "markdown",
   "id": "b83d3ff7",
   "metadata": {},
   "source": [
    " Mais um teste, que também exigiu muito debugging e paciencia."
   ]
  },
  {
   "cell_type": "code",
   "execution_count": 17,
   "id": "42822d7b",
   "metadata": {
    "ExecuteTime": {
     "end_time": "2021-09-23T11:55:48.517009Z",
     "start_time": "2021-09-23T11:55:48.503729Z"
    },
    "scrolled": true
   },
   "outputs": [
    {
     "name": "stdout",
     "output_type": "stream",
     "text": [
      "[700.0, 'Belo Horizonte  Santa Amélia', 1, 0.0, 49.00000000000001, 30.0, 1, 1, 'olx']\n",
      "[750.0, 'Belo Horizonte  Santa Amélia', 1, 0.0, 52.50000000000001, 30.0, 1, 1, 'olx']\n",
      "[870.0, 'Belo Horizonte  Liberdade', 1, 195.0, 60.900000000000006, 43.0, 1, 1, 'olx']\n",
      "[800.0, 'Belo Horizonte  Santa Amélia', 1, 0.0, 56.00000000000001, 35.0, 1, 1, 'olx']\n",
      "[700.0, 'Belo Horizonte  Santa Amélia', 1, 0.0, 49.00000000000001, 30.0, 1, 1, 'olx']\n"
     ]
    }
   ],
   "source": [
    "for anuncio in house_containers_olx[0:5]:\n",
    "    print(get_olx(anuncio))"
   ]
  },
  {
   "cell_type": "markdown",
   "id": "380e6e8f",
   "metadata": {},
   "source": [
    "#### Viva Real\n",
    "\n",
    "O Viva Real é a mesma coisa do Olx mas com classes diferentes. A diferença é so que aqui não tem o IPTU, então eu assumi a mesma coisa  que na olx, 7% do aluguel."
   ]
  },
  {
   "cell_type": "code",
   "execution_count": 18,
   "id": "63f14cef",
   "metadata": {
    "ExecuteTime": {
     "end_time": "2021-09-23T11:55:48.970900Z",
     "start_time": "2021-09-23T11:55:48.957896Z"
    }
   },
   "outputs": [],
   "source": [
    "def get_vivareal(anuncio):\n",
    "    anuncio_data= anuncio.find_all(['div', 'p', 'span', 'li'])\n",
    "    anuncio_data_aluguel = get_card_values(anuncio_data, 'class',\n",
    "                                        \"property-card__price\")\n",
    "    anuncio_data_localizacao = get_card_values(anuncio_data,\n",
    "                    'class',\n",
    "                    \"property-card__address\",\n",
    "                    regex=r'[^\\w]',\n",
    "                    regex_div=' ')  \n",
    "    anuncio_data_quartos = get_card_values(anuncio_data, 'class',\n",
    "                                           \"js-property-detail-rooms\")\n",
    "    anuncio_data_area = get_card_values(anuncio_data, 'class',\n",
    "                                        \"js-property-card-detail-area\")\n",
    "    anuncio_data_banheiros = get_card_values(anuncio_data, 'class',\n",
    "                                             \"js-property-detail-bathroom\")\n",
    "    anuncio_data_garagem = get_card_values(anuncio_data, 'class',\n",
    "                                           \"js-property-detail-garages\")\n",
    "    anuncio_data_condominio = get_card_values(anuncio_data, 'class',\n",
    "                                        \"property-card__price-details--condo\")\n",
    "    \n",
    "    \n",
    "    \n",
    "    return return_patterned_housings(aluguel=float(anuncio_data_aluguel),\n",
    "                                     localizacao=anuncio_data_localizacao,\n",
    "                                     quartos=int(anuncio_data_quartos),\n",
    "                                     condominio=float(anuncio_data_condominio),\n",
    "                                     iptu=float(anuncio_data_aluguel)*0.07,\n",
    "                                     area=float(anuncio_data_area),\n",
    "                                     banheiros=int(anuncio_data_banheiros),\n",
    "                                     garagens=int(anuncio_data_garagem),\n",
    "                                    host='vivareal')"
   ]
  },
  {
   "cell_type": "markdown",
   "id": "26706842",
   "metadata": {
    "ExecuteTime": {
     "end_time": "2021-09-21T12:51:49.215748Z",
     "start_time": "2021-09-21T12:51:49.196744Z"
    }
   },
   "source": [
    "Testes Testes Testes"
   ]
  },
  {
   "cell_type": "code",
   "execution_count": 19,
   "id": "eb191e6d",
   "metadata": {
    "ExecuteTime": {
     "end_time": "2021-09-23T11:55:49.482865Z",
     "start_time": "2021-09-23T11:55:49.454263Z"
    }
   },
   "outputs": [
    {
     "name": "stdout",
     "output_type": "stream",
     "text": [
      "[1550.0, 'Rua dos Aeronautas  400   Liberdade  Belo Horizonte   MG', 3, 250.0, 108.50000000000001, 79.0, 3, 1, 'vivareal']\n",
      "[1200.0, 'Liberdade  Belo Horizonte   MG', 3, 360.0, 84.00000000000001, 75.0, 1, 1, 'vivareal']\n",
      "[1200.0, 'Rua Boaventura  771   Liberdade  Belo Horizonte   MG', 2, 400.0, 84.00000000000001, 76.0, 2, 1, 'vivareal']\n",
      "[1100.0, 'Liberdade  Belo Horizonte   MG', 2, 321.0, 77.00000000000001, 57.0, 1, 1, 'vivareal']\n",
      "[1500.0, 'Rua Flor de fogo  65   Liberdade  Belo Horizonte   MG', 3, 453.0, 105.00000000000001, 70.0, 2, 1, 'vivareal']\n"
     ]
    }
   ],
   "source": [
    "for anuncio in house_containers_vivareal[0:5]:\n",
    "    print(get_vivareal(anuncio))"
   ]
  },
  {
   "cell_type": "markdown",
   "id": "f2170171",
   "metadata": {},
   "source": [
    "#### Automatização das paginas\n",
    "\n",
    "Feitas as funções que conseguem extrair os dados de um unico anuncio, agora basta fazer as funções que extraem os dados de uma pagina inteira de anuncios. O processo é mais ou menos a mesma coisa que esse for que eu usei para testar se as funções estavam funcionando (inclusive provavelmente eu poderia fazer uma função só ao invés de uma pra cada pagina, mas deixemos isso pras próximas versões desse projeto)."
   ]
  },
  {
   "cell_type": "code",
   "execution_count": 20,
   "id": "57f9eb16",
   "metadata": {
    "ExecuteTime": {
     "end_time": "2021-09-23T11:55:49.928570Z",
     "start_time": "2021-09-23T11:55:49.914846Z"
    }
   },
   "outputs": [],
   "source": [
    "def get_page_zap(page_url):\n",
    "    response = get(page_url, headers=headers)\n",
    "    html_soup = BeautifulSoup(response.text, 'html.parser')\n",
    "\n",
    "    house_containers = html_soup.find_all('div', class_=\"simple-card__box\")\n",
    "    ret = []\n",
    "    for anuncio in house_containers:\n",
    "        ret.append(get_zap(anuncio))\n",
    "    return ret\n",
    "\n",
    "\n",
    "def get_page_olx(page_url):\n",
    "    response = get(page_url, headers=headers)\n",
    "    html_soup = BeautifulSoup(response.text, 'html.parser')\n",
    "\n",
    "    house_containers =  html_soup.find_all('a', class_=\"fnmrjs-0 fyjObc\")\n",
    "    ret = []\n",
    "    for anuncio in house_containers:\n",
    "        ret.append(get_olx(anuncio))\n",
    "    return ret\n",
    "\n",
    "\n",
    "def get_page_vivareal(page_url):\n",
    "    response = get(page_url, headers=headers)\n",
    "    html_soup = BeautifulSoup(response.text, 'html.parser')\n",
    "\n",
    "    house_containers = html_soup.find_all('div', class_=\"js-card-selector\")\n",
    "    ret = []\n",
    "    for anuncio in house_containers:\n",
    "        ret.append(get_vivareal(anuncio))\n",
    "    return ret\n"
   ]
  },
  {
   "cell_type": "markdown",
   "id": "807a3fba",
   "metadata": {},
   "source": [
    "Agora é so botar esse for pra rodar em cada página do site. pra isso a gente precisa descobrir onde entra o numero da pagina na url do site, o que é bem simples de fazer, basta ir mudando manualmente a pagina e observando onde que está mudando na url. Feito isso teremos os nossos dados de forma bruta, organizados em listas."
   ]
  },
  {
   "cell_type": "code",
   "execution_count": 21,
   "id": "ac0c5305",
   "metadata": {
    "ExecuteTime": {
     "end_time": "2021-09-23T11:56:05.660709Z",
     "start_time": "2021-09-23T11:55:50.372904Z"
    }
   },
   "outputs": [],
   "source": [
    "url_zap_1=\"https://www.zapimoveis.com.br/aluguel/apartamentos/mg+belo-horizonte++liberdade/?onde=,Minas%20Gerais,Belo%20Horizonte,,Liberdade,,,,BR%3EMinas%20Gerais%3ENULL%3EBelo%20Horizonte%3EBarrios%3ELiberdade,-19.865305,-43.952023%3B,Minas%20Gerais,Belo%20Horizonte,,Ouro%20Preto,,,,BR%3EMinas%20Gerais%3ENULL%3EBelo%20Horizonte%3EBarrios%3EOuro%20Preto,-19.874898,-43.992275%3B,Minas%20Gerais,Belo%20Horizonte,,S%C3%A3o%20Francisco,,,,BR%3EMinas%20Gerais%3ENULL%3EBelo%20Horizonte%3EBarrios%3ESao%20Francisco,-19.877506,-43.956058%3B,Minas%20Gerais,Belo%20Horizonte,,S%C3%A3o%20Lu%C3%ADz,,,,BR%3EMinas%20Gerais%3ENULL%3EBelo%20Horizonte%3EBarrios%3ESao%20Luiz,-19.857363,-43.967109%3B,Minas%20Gerais,Belo%20Horizonte,,Jaragu%C3%A1,,,,BR%3EMinas%20Gerais%3ENULL%3EBelo%20Horizonte%3EBarrios%3EJaragua,-19.858255,-43.952023&pagina=\"\n",
    "url_zap_2=\"&tipo=Im%C3%B3vel%20usado&tipoUnidade=Residencial,Apartamento&transacao=Aluguel\"\n",
    "\n",
    "\n",
    "url_zap_pages= [url_zap_1 + str(x) + url_zap_2 for x in list(range(1,11))]\n",
    "url_zap_pages\n",
    "\n",
    "zap_data=[]\n",
    "\n",
    "for url in url_zap_pages:\n",
    "    zap_data+=get_page_zap(url)"
   ]
  },
  {
   "cell_type": "code",
   "execution_count": 22,
   "id": "18185531",
   "metadata": {
    "ExecuteTime": {
     "end_time": "2021-09-23T11:56:25.051217Z",
     "start_time": "2021-09-23T11:56:06.093270Z"
    }
   },
   "outputs": [],
   "source": [
    "url_olx_1=\"https://mg.olx.com.br/belo-horizonte-e-regiao/pampulha/imoveis/aluguel/apartamentos?o=\"\n",
    "url_olx_2=\"&pe=8000&ps=100&roe=5&ros=0\"\n",
    "\n",
    "url_olx_pages= [url_olx_1 + str(x) + url_olx_2 for x in list(range(1,11))]\n",
    "url_olx_pages\n",
    "\n",
    "olx_data=[]\n",
    "\n",
    "for url in url_olx_pages:\n",
    "    olx_data+=get_page_olx(url)"
   ]
  },
  {
   "cell_type": "code",
   "execution_count": 23,
   "id": "2c092667",
   "metadata": {
    "ExecuteTime": {
     "end_time": "2021-09-23T11:56:33.295936Z",
     "start_time": "2021-09-23T11:56:25.521374Z"
    }
   },
   "outputs": [],
   "source": [
    "url_vivareal_1 = \"https://www.vivareal.com.br/aluguel/minas-gerais/belo-horizonte/bairros/\" \n",
    "url_vivareal_2 = \"/apartamento_residencial/\"\n",
    "\n",
    "\n",
    "bairros=[\"liberdade\", \"ouro-preto\", \"sao-francisco\", \"sao-luiz\", \"jaragua\", \"bandeirantes\"]\n",
    "url_vivareal_pages = [url_vivareal_1 + str(x) + url_vivareal_2 for x in bairros]\n",
    "url_vivareal_pages\n",
    "\n",
    "vivareal_data = []\n",
    "\n",
    "for url in url_vivareal_pages:\n",
    "    vivareal_data += get_page_vivareal(url)"
   ]
  },
  {
   "cell_type": "markdown",
   "id": "d5ae90a0",
   "metadata": {},
   "source": [
    "### Explorando e tratando os dados\n"
   ]
  },
  {
   "cell_type": "markdown",
   "id": "5e7581af",
   "metadata": {},
   "source": [
    "Agora vem para mim o que é a aprte mais legal: a exploração dos dados!! Vamos começar juntando o dados em uma grande lista só. Para isso basta fazer uma lista com os dados desempacotados (o * é para isso :)). Também colocamos um filtro nos dados da Olx, para tirar os dados nulos."
   ]
  },
  {
   "cell_type": "code",
   "execution_count": 24,
   "id": "5d758d38",
   "metadata": {
    "ExecuteTime": {
     "end_time": "2021-09-23T11:56:33.774671Z",
     "start_time": "2021-09-23T11:56:33.761977Z"
    }
   },
   "outputs": [],
   "source": [
    "total_data= [*zap_data , *vivareal_data , *list(filter(None, olx_data))]"
   ]
  },
  {
   "cell_type": "markdown",
   "id": "f89a5c14",
   "metadata": {},
   "source": [
    "Hora de explorar os dados. Vou começar tirando alguns conjuntos de dados como listas, para facilitar "
   ]
  },
  {
   "cell_type": "code",
   "execution_count": 34,
   "id": "3a49d286",
   "metadata": {
    "ExecuteTime": {
     "end_time": "2021-09-23T11:57:13.662601Z",
     "start_time": "2021-09-23T11:57:13.650589Z"
    }
   },
   "outputs": [],
   "source": [
    "alugueis=[a[0] for a in total_data]\n",
    "condominio=[a[3] for a in total_data]\n",
    "area=[a[5] for a in total_data]"
   ]
  },
  {
   "cell_type": "code",
   "execution_count": 35,
   "id": "6be08ad0",
   "metadata": {
    "ExecuteTime": {
     "end_time": "2021-09-23T11:57:14.508706Z",
     "start_time": "2021-09-23T11:57:14.303184Z"
    }
   },
   "outputs": [
    {
     "data": {
      "text/plain": [
       "Text(0, 0.5, 'aluguel')"
      ]
     },
     "execution_count": 35,
     "metadata": {},
     "output_type": "execute_result"
    },
    {
     "data": {
      "image/png": "[encoded data removed]",
      "text/plain": [
       "<Figure size 432x288 with 1 Axes>"
      ]
     },
     "metadata": {},
     "output_type": "display_data"
    }
   ],
   "source": [
    "plt.plot(area, alugueis, 'o') #pequeno exemplo de como se graficar os dados\n",
    "plt.xlabel('area do apartamento')\n",
    "plt.ylabel('aluguel')"
   ]
  },
  {
   "cell_type": "markdown",
   "id": "685859fb",
   "metadata": {},
   "source": [
    "Aqui vemos que existem alguns valores de aluguel que estão bem maiores que o normal. Esse valores provavelmente são de apartamentos a venda, e por isso vamos remove-los do algoritmo. Mas antes, vamos transforar os dados em um unico dataframe e criar uma coluna pro valor total do apartamento, e em seguida explorar um pouco os dados do dataset."
   ]
  },
  {
   "cell_type": "code",
   "execution_count": 36,
   "id": "cf84a2ce",
   "metadata": {
    "ExecuteTime": {
     "end_time": "2021-09-23T11:59:20.296931Z",
     "start_time": "2021-09-23T11:59:20.052915Z"
    }
   },
   "outputs": [
    {
     "data": {
      "text/plain": [
       "<AxesSubplot:xlabel='quartos', ylabel='total'>"
      ]
     },
     "execution_count": 36,
     "metadata": {},
     "output_type": "execute_result"
    },
    {
     "data": {
      "image/png": "[encoded data removed]",
      "text/plain": [
       "<Figure size 432x288 with 1 Axes>"
      ]
     },
     "metadata": {},
     "output_type": "display_data"
    }
   ],
   "source": [
    "df=pd.DataFrame(total_data, columns= [\n",
    "                      \"aluguel\", \"localizacao\", \"quartos\", \"condominio\", \"iptu\", \"area\",\n",
    "                      \"banheiros\", \"garagens\", 'host'\n",
    "                  ])\n",
    "\n",
    "df['total']= df.aluguel+df.condominio+df.iptu\n",
    "\n",
    "sns.scatterplot(data=df[df.aluguel<100000],x='quartos', y='total' )"
   ]
  },
  {
   "cell_type": "markdown",
   "id": "1ac80d81",
   "metadata": {},
   "source": [
    "Nesse gráfico aqui vemos que o numero de quartos influencia no valor do aluguel, dado que o valor total de gastos aumenta com o numero de quartos. Plotanto agora com o numero de banheiros:"
   ]
  },
  {
   "cell_type": "code",
   "execution_count": 30,
   "id": "2f5a8f67",
   "metadata": {
    "ExecuteTime": {
     "end_time": "2021-09-23T11:56:37.310203Z",
     "start_time": "2021-09-23T11:56:37.084374Z"
    }
   },
   "outputs": [
    {
     "data": {
      "text/plain": [
       "<AxesSubplot:xlabel='banheiros', ylabel='total'>"
      ]
     },
     "execution_count": 30,
     "metadata": {},
     "output_type": "execute_result"
    },
    {
     "data": {
      "image/png": "[encoded data removed]",
      "text/plain": [
       "<Figure size 432x288 with 1 Axes>"
      ]
     },
     "metadata": {},
     "output_type": "display_data"
    }
   ],
   "source": [
    "sns.scatterplot(data=df[df.aluguel<100000],x='banheiros', y='total' )"
   ]
  },
  {
   "cell_type": "markdown",
   "id": "c627a388",
   "metadata": {},
   "source": [
    "O mesmo vale pro numero de banheiros. Quanto mais, mais caro."
   ]
  },
  {
   "cell_type": "code",
   "execution_count": 31,
   "id": "84935905",
   "metadata": {
    "ExecuteTime": {
     "end_time": "2021-09-23T11:56:38.048880Z",
     "start_time": "2021-09-23T11:56:37.787929Z"
    },
    "scrolled": true
   },
   "outputs": [
    {
     "data": {
      "text/plain": [
       "<AxesSubplot:xlabel='garagens', ylabel='total'>"
      ]
     },
     "execution_count": 31,
     "metadata": {},
     "output_type": "execute_result"
    },
    {
     "data": {
      "image/png": "[encoded data removed]",
      "text/plain": [
       "<Figure size 432x288 with 1 Axes>"
      ]
     },
     "metadata": {},
     "output_type": "display_data"
    }
   ],
   "source": [
    "sns.scatterplot(data=df[df.aluguel<100000],x='garagens', y='total' )"
   ]
  },
  {
   "cell_type": "markdown",
   "id": "fad5df31",
   "metadata": {},
   "source": [
    "O mesmo vale pro número de garagens."
   ]
  },
  {
   "cell_type": "code",
   "execution_count": 32,
   "id": "4b142de8",
   "metadata": {
    "ExecuteTime": {
     "end_time": "2021-09-23T11:56:38.756783Z",
     "start_time": "2021-09-23T11:56:38.519593Z"
    }
   },
   "outputs": [
    {
     "data": {
      "text/plain": [
       "<AxesSubplot:xlabel='area', ylabel='total'>"
      ]
     },
     "execution_count": 32,
     "metadata": {},
     "output_type": "execute_result"
    },
    {
     "data": {
      "image/png": "[encoded data removed]",
      "text/plain": [
       "<Figure size 432x288 with 1 Axes>"
      ]
     },
     "metadata": {},
     "output_type": "display_data"
    }
   ],
   "source": [
    "sns.scatterplot(data=df[df.aluguel<100000],x='area', y='total' )"
   ]
  },
  {
   "cell_type": "markdown",
   "id": "3b206209",
   "metadata": {},
   "source": [
    "A area também tem essa propriede, tendo um formato até meio linear. Vamos observar agora como os anuncios estão distribuidos nas plataformas, sem remover os anuncios duplicados:"
   ]
  },
  {
   "cell_type": "code",
   "execution_count": 37,
   "id": "23104da2",
   "metadata": {
    "ExecuteTime": {
     "end_time": "2021-09-23T12:04:53.612703Z",
     "start_time": "2021-09-23T12:04:53.196978Z"
    }
   },
   "outputs": [
    {
     "data": {
      "text/plain": [
       "<AxesSubplot:xlabel='total', ylabel='Count'>"
      ]
     },
     "execution_count": 37,
     "metadata": {},
     "output_type": "execute_result"
    },
    {
     "data": {
      "image/png": "[encoded data removed]",
      "text/plain": [
       "<Figure size 432x288 with 1 Axes>"
      ]
     },
     "metadata": {},
     "output_type": "display_data"
    }
   ],
   "source": [
    "sns.color_palette(\"crest\", as_cmap=True)\n",
    "sns.histplot(data=df[df.aluguel<4000],x='total', kde=True, hue='host')"
   ]
  },
  {
   "cell_type": "markdown",
   "id": "82e5d27b",
   "metadata": {},
   "source": [
    "Aqui vemos que os sites tem uma quantidade parecida de anuncios e uma distribuição também correlacionada. Vemos também que o que mais tem anuncios é o olx, sendo destaue principalmente em apartamentos mais baratos. Isso provavelmente acontece porque enquanto o Viva Real e o Zap imoveis são mais focados e imobiliarias o Olx ja tem uma cultura de lidar com direto com o proprietário. O olx também tem outros usos relacionados a compra e venda de objetos.   \n",
    "\n",
    "Feita toda essa exploração dos dados vamos agora limpar os dados que estão dublicados e de venda de imoveis. Para considerar dois anuncios duplicados vamos levar em conta o aluguel e a area do apartamento, pois são dois dados que não variam muito e são bem identitarios para o apartamento. Também vamos levar em conta que os anuncios precisam estar em sites diferentes, pois é justamente o mais commum de se ver nessas duplicatas. Para enriquecer os dados, vamos dar preferencia para manter os dados do Zap imoveis, pois é a platafomra que entrega os dados mais completos e a única que tem o iptu correto do apartamento. os dados de venda terão como filtro de que um apartamento com mais de R$ 10000 é um apartamento a venda.\n"
   ]
  },
  {
   "cell_type": "code",
   "execution_count": 42,
   "id": "af2fc094",
   "metadata": {
    "ExecuteTime": {
     "end_time": "2021-09-23T12:14:45.291021Z",
     "start_time": "2021-09-23T12:13:56.885591Z"
    }
   },
   "outputs": [
    {
     "data": {
      "text/plain": [
       "<AxesSubplot:xlabel='total', ylabel='Count'>"
      ]
     },
     "execution_count": 42,
     "metadata": {},
     "output_type": "execute_result"
    },
    {
     "data": {
      "image/png": "[encoded data removed]",
      "text/plain": [
       "<Figure size 432x288 with 1 Axes>"
      ]
     },
     "metadata": {},
     "output_type": "display_data"
    }
   ],
   "source": [
    "def find_duplicates(dataset):\n",
    "    ret = np.zeros(len(dataset))\n",
    "    for i in range(len(dataset)):\n",
    "        anuncio_i = dataset.iloc[i]\n",
    "        for j in range(i + 1, len(dataset)):\n",
    "            anuncio_j = dataset.iloc[j]\n",
    "            if anuncio_i.aluguel == anuncio_j.aluguel and anuncio_i.host != anuncio_j.host and anuncio_i.area == anuncio_j.area:\n",
    "                ret[j] = 1\n",
    "    return pd.Series(ret)\n",
    "\n",
    "\n",
    "filtro = find_duplicates(df)\n",
    "\n",
    "df_clean = df[filtro == 0]\n",
    "\n",
    "df_clean= df_clean[df_clean.aluguel<10000]\n",
    "\n",
    "sns.histplot(data=df_clean[df_clean.aluguel<4000],x='total', kde=True, hue='host')"
   ]
  },
  {
   "cell_type": "markdown",
   "id": "56b40e61",
   "metadata": {},
   "source": [
    "Observando a diferença entre esse histograma e o anterior vemos que o VivaReal tem muitos dados duplicados das outras plataformas, e mesmo removendo os dados duplicados o Olx segue como um grande destaque em anuncios de apartamentos mais baratos."
   ]
  },
  {
   "cell_type": "markdown",
   "id": "36140361",
   "metadata": {
    "ExecuteTime": {
     "end_time": "2021-09-17T11:55:18.394929Z",
     "start_time": "2021-09-17T11:55:18.380918Z"
    }
   },
   "source": [
    "### Modelo de aprendizado de maquina\n",
    "\n",
    "Soltem as maquinas! Hora de aplicar os dados extraidos e agora limpos nos modelos de aprendizado de maquina. Para tal, vamos levar em conta a area, o numero de quartos, o numero de banheiros e o numero de garagens para tentar prever qual será o valor total para se viver naquele imovel."
   ]
  },
  {
   "cell_type": "code",
   "execution_count": 43,
   "id": "fdff97a3",
   "metadata": {
    "ExecuteTime": {
     "end_time": "2021-09-23T12:18:33.859403Z",
     "start_time": "2021-09-23T12:18:33.005859Z"
    }
   },
   "outputs": [],
   "source": [
    "from sklearn.model_selection import train_test_split\n",
    "\n",
    "X=df_clean[['area', 'quartos', 'banheiros', 'garagens']]\n",
    "y=df_clean['total']\n",
    "\n",
    "\n",
    "X_train, X_test, y_train, y_test = train_test_split(\n",
    "    X, y, test_size=0.33, random_state=42)\n"
   ]
  },
  {
   "cell_type": "markdown",
   "id": "fc9bafd4",
   "metadata": {},
   "source": [
    "O modelo de regressão que ultilizaremos é a regreção por floresta aleatoria, vamos  fazer um teste simples com 12 estimadores apenas para ter uma noção da precisão que teremos com esse projeto."
   ]
  },
  {
   "cell_type": "code",
   "execution_count": 46,
   "id": "24cfd927",
   "metadata": {
    "ExecuteTime": {
     "end_time": "2021-09-23T12:20:07.505604Z",
     "start_time": "2021-09-23T12:20:07.464106Z"
    }
   },
   "outputs": [
    {
     "name": "stdout",
     "output_type": "stream",
     "text": [
      "a precisão que temos em um modelo simples é de 74.3% e com desvio de +- R$ 633.45\n"
     ]
    }
   ],
   "source": [
    "from sklearn.ensemble import RandomForestRegressor\n",
    "\n",
    "rf = RandomForestRegressor(n_estimators=12, random_state=42)\n",
    "\n",
    "rf.fit(X_train, y_train)\n",
    "\n",
    "preds = rf.predict(X_test)\n",
    "errors = np.abs(preds - y_test)\n",
    "std = np.sqrt(np.sum(errors**2) / len(errors))\n",
    "mape = 100 * np.mean(errors / y_test)\n",
    "accuracy = 100 - mape\n",
    "print(\n",
    "    'a precisão que temos em um modelo simples é de %.1f%% e com desvio de +- R$ %.2f'\n",
    "    % (accuracy, std))"
   ]
  },
  {
   "cell_type": "markdown",
   "id": "bd2211ee",
   "metadata": {},
   "source": [
    "74% parece até ok para mo nosso modelo dado que não estamos usando a localização dos apartamentos e existem diversos fatores como armarios, portaria, mobilia e varanda que não estão presentes nos dados. Já o desvio está meio alto, mas também é esperado dado que estamos levando em conta dados com uma alta variancia de valor para o total do aluguel.\n",
    "\n",
    "Hora de tentar melhorar esse modelo. Para isso vamos tentar melhorar os parametros por meio de uma procura de rede. Esse codigo pode demorar um pouco para rodar mas não é nada muito longo."
   ]
  },
  {
   "cell_type": "code",
   "execution_count": 47,
   "id": "78fb4b30",
   "metadata": {
    "ExecuteTime": {
     "end_time": "2021-09-23T12:23:41.545554Z",
     "start_time": "2021-09-23T12:23:30.099294Z"
    }
   },
   "outputs": [
    {
     "name": "stdout",
     "output_type": "stream",
     "text": [
      "Fitting 3 folds for each of 288 candidates, totalling 864 fits\n"
     ]
    },
    {
     "data": {
      "text/plain": [
       "GridSearchCV(cv=3, estimator=RandomForestRegressor(), n_jobs=-1,\n",
       "             param_grid={'bootstrap': [True], 'max_depth': [70, 80, 90, 100],\n",
       "                         'max_features': [2, 3], 'min_samples_leaf': [1, 2, 3],\n",
       "                         'min_samples_split': [2, 4, 6],\n",
       "                         'n_estimators': [10, 15, 20, 30]},\n",
       "             verbose=2)"
      ]
     },
     "execution_count": 47,
     "metadata": {},
     "output_type": "execute_result"
    }
   ],
   "source": [
    "from sklearn.model_selection import GridSearchCV\n",
    "# Create the parameter grid based on the results of random search \n",
    "param_grid = {\n",
    "    'bootstrap': [True],\n",
    "    'max_depth': [70, 80, 90, 100],\n",
    "    'max_features': [2, 3],\n",
    "    'min_samples_leaf': [1, 2, 3],\n",
    "    'min_samples_split': [2, 4, 6],\n",
    "    'n_estimators': [10, 15, 20, 30]\n",
    "}\n",
    "# Create a based model\n",
    "rf = RandomForestRegressor()\n",
    "# Instantiate the grid search model\n",
    "grid_search = GridSearchCV(estimator = rf, param_grid = param_grid, \n",
    "                          cv = 3, n_jobs = -1, verbose = 2)\n",
    "grid_search.fit(X_train, y_train)"
   ]
  },
  {
   "cell_type": "code",
   "execution_count": 49,
   "id": "ebc6d858",
   "metadata": {
    "ExecuteTime": {
     "end_time": "2021-09-23T12:25:03.797558Z",
     "start_time": "2021-09-23T12:25:03.769553Z"
    }
   },
   "outputs": [
    {
     "name": "stdout",
     "output_type": "stream",
     "text": [
      "a melhor precisão que conseguimos no modelo é de 75.1% e com desvio de +- R$ 658.35\n"
     ]
    }
   ],
   "source": [
    "best_model=grid_search.best_estimator_\n",
    "\n",
    "preds= best_model.predict(X_test)\n",
    "errors=np.abs(preds-y_test)\n",
    "best_std=np.sqrt(np.sum(errors**2)/len(errors))\n",
    "mape = 100 * np.mean(errors / y_test )\n",
    "best_accuracy = 100 - mape\n",
    "best_std\n",
    "\n",
    "\n",
    "print(\n",
    "    'a melhor precisão que conseguimos no modelo é de %.1f%% e com desvio de +- R$ %.2f'\n",
    "    % (best_accuracy, best_std))"
   ]
  },
  {
   "cell_type": "markdown",
   "id": "0d5043aa",
   "metadata": {},
   "source": [
    "Melhoramos um pouco a precisão! Mas perdemos no desvio padrão. Uma pena, mas o que ja conseguimos está otimo."
   ]
  },
  {
   "cell_type": "markdown",
   "id": "e4098934",
   "metadata": {},
   "source": [
    "### Previsão do meu aluguel\n",
    "\n",
    "Voltando ao proposito original desse projeto, vamos agora aplicar os dados do meu apartamento nesse modelo. Em seguida vamos fazer uns gráficos para termos uma noção de como meu apartamento está em meio ao mercado"
   ]
  },
  {
   "cell_type": "code",
   "execution_count": 55,
   "id": "670a55f1",
   "metadata": {
    "ExecuteTime": {
     "end_time": "2021-09-23T12:28:01.246140Z",
     "start_time": "2021-09-23T12:28:01.231141Z"
    }
   },
   "outputs": [
    {
     "name": "stdout",
     "output_type": "stream",
     "text": [
      "um apartamento nos padrões do meu custa em média R$ 1380.95\n"
     ]
    }
   ],
   "source": [
    "mean=best_model.predict(np.array([75,2,1,1]).reshape(1, -1))\n",
    "print(\"um apartamento nos padrões do meu custa em média R$ %.2f\"%(mean))"
   ]
  },
  {
   "cell_type": "code",
   "execution_count": 58,
   "id": "40f0065e",
   "metadata": {
    "ExecuteTime": {
     "end_time": "2021-09-23T12:28:46.643912Z",
     "start_time": "2021-09-23T12:28:45.470761Z"
    }
   },
   "outputs": [
    {
     "name": "stdout",
     "output_type": "stream",
     "text": [
      "pagamos mais barato que 74.89% das pessosoas com apartamentos no mesmo padrão\n"
     ]
    },
    {
     "data": {
      "image/png": "[encoded data removed]",
      "text/plain": [
       "<Figure size 432x288 with 1 Axes>"
      ]
     },
     "metadata": {},
     "output_type": "display_data"
    },
    {
     "data": {
      "image/png": "[encoded data removed]",
      "text/plain": [
       "<Figure size 432x288 with 1 Axes>"
      ]
     },
     "metadata": {},
     "output_type": "display_data"
    }
   ],
   "source": [
    "data=np.random.normal(mean, best_std, 10000000)\n",
    "data=data[data>0]\n",
    "\n",
    "def find_nearest(array, value):\n",
    "    array = np.asarray(array)\n",
    "    idx = (np.abs(array - value)).argmin()\n",
    "    return idx\n",
    "\n",
    "\n",
    "count, bins_count = np.histogram(data, bins=1000)\n",
    "  \n",
    "# finding the PDF of the histogram using count values\n",
    "pdf = count / sum(count)\n",
    "  \n",
    "# using numpy np.cumsum to calculate the CDF\n",
    "# We can also find using the PDF values by looping and adding\n",
    "cdf = np.cumsum(pdf)\n",
    "\n",
    "# plotting PDF and CDF\n",
    "plt.plot(bins_count[1:], cdf*100, label=\"CDF\")\n",
    "plt.scatter(bins_count[find_nearest(bins_count, 960)], cdf[find_nearest(bins_count, 960)]*100, c='k', label='meu aluguel')\n",
    "print('pagamos mais barato que %.2f%% das pessosoas com apartamentos no mesmo padrão'%(100.- cdf[find_nearest(bins_count, 960)]*100))\n",
    "plt.legend()\n",
    "plt.show()\n",
    "\n",
    "count, bins_count = np.histogram(data, bins=500)\n",
    "\n",
    "# finding the PDF of the histogram using count values\n",
    "pdf = count / sum(count)\n",
    "plt.plot(bins_count[1:], pdf, label='PDF')\n",
    "plt.scatter(bins_count[find_nearest(bins_count, 900)], pdf[find_nearest(bins_count, 900)], c='k', label='meu apartamento')\n",
    "plt.legend()\n",
    "plt.xlabel(\"aluguel+iptu+condominio\")\n",
    "plt.show()"
   ]
  },
  {
   "cell_type": "markdown",
   "id": "7f6f799e",
   "metadata": {},
   "source": [
    "Vemos então que nosso apartamento está mais barato que a média, mas dentro do desvio padrão ele poderia estar até na média. O importante é que eu não estou sendo tapado rs.\n"
   ]
  },
  {
   "cell_type": "markdown",
   "id": "3850e02f",
   "metadata": {},
   "source": [
    "### Considerações finais\n",
    "\n",
    "Eu aprendi muita coisa com esse projeto e fiquei muito satisfeito com o resultado. Entretanto preciso reconhecer que existem varias melhorias que eu posso  executar para as próximas versões. A primeira (e talvez a mas importante) é levar em conta dos dados da loclização. O segredo é selecinar dentre a lsita de bairros abordados pelo dataset o que tem o nome mais proximo do dado da localização, o que me daria um trabalhinho mas que eu estou muito ansioso para tentar. Além disso, é interessante tentar melhorar o estimador (o modelo de aprendizado de máquina) por meio de outras procuras em grade ou mesmo um modelo de aprendizado profundo. Tentar interagir com a página do quinto andar também é uma boa, embora a maioria dos anuncios do quinto também está nas outras plataformas.\n",
    "\n",
    "No geral o projeto é promissor e uma boa maneira de se ter mais segurança ao pedir um desconto no aluguel (se você é o locatário) ou dar uma engrossada no preço do aluguel (se você é  o locador)."
   ]
  }
 ],
 "metadata": {
  "hide_input": false,
  "kernelspec": {
   "display_name": "Python 3",
   "language": "python",
   "name": "python3"
  },
  "language_info": {
   "codemirror_mode": {
    "name": "ipython",
    "version": 3
   },
   "file_extension": ".py",
   "mimetype": "text/x-python",
   "name": "python",
   "nbconvert_exporter": "python",
   "pygments_lexer": "ipython3",
   "version": "3.8.8"
  },
  "varInspector": {
   "cols": {
    "lenName": 16,
    "lenType": 16,
    "lenVar": 40
   },
   "kernels_config": {
    "python": {
     "delete_cmd_postfix": "",
     "delete_cmd_prefix": "del ",
     "library": "var_list.py",
     "varRefreshCmd": "print(var_dic_list())"
    },
    "r": {
     "delete_cmd_postfix": ") ",
     "delete_cmd_prefix": "rm(",
     "library": "var_list.r",
     "varRefreshCmd": "cat(var_dic_list()) "
    }
   },
   "types_to_exclude": [
    "module",
    "function",
    "builtin_function_or_method",
    "instance",
    "_Feature"
   ],
   "window_display": false
  }
 },
 "nbformat": 4,
 "nbformat_minor": 5
}
