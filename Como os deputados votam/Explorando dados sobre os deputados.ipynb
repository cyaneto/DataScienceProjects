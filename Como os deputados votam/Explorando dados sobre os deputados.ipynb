{
 "cells": [
  {
   "cell_type": "markdown",
   "id": "afdd6432",
   "metadata": {},
   "source": [
    "## Como os deputados votam: Exploração e tratamento dos dados\n",
    "### Um projeto de aprendizado não supervisado\n",
    "\n",
    "\n",
    "Mas, quando passamos a falar e politica na prática, considerando os projetos de lei, votações na câmara e decretos governamentais ninguém entende muito bem. Se tratando de um país do tamanho do Brasil é entendível que as regras de governo sejam complexas, cheias de processos e burocracias. É parte do sistema democrático.\n",
    "\n",
    "Uma parte importante desse processo são as votações na câmara dos deputados. É la que são aprovados projetos, leis ementas e outras coisas do direito que mudam diretamente ou indiretamente nossa vida enquanto cidadãos. O interessante é que câmara legislativa disponibiliza um volume imenso de dados sobre o que acontece nessas votações, nos permitindo e incentivando a explorar esses dados.\n",
    "\n",
    "Sabendo que a política é atualmente um assunto muito importante para nós brasileiros, mas que não entendemos muito bem o comportamento dos parlamentares nas votações e existem dados que nos permitem explorar um pouco esse comportamento, surgiu a ideia de desenvolver esse projeto: um estudo sobre os dados das votações na câmara dos deputados.\n",
    "\n",
    "Essa é a segunda parte de três. Aqui eu irei explorar os dados extraidos na primeira parte (LIIINNNNKKK___1)  e explicar um pouco os critérios que eu usei para filtrar os dados obtidos.\n"
   ]
  },
  {
   "cell_type": "code",
   "execution_count": 8,
   "id": "7a747ef4",
   "metadata": {
    "ExecuteTime": {
     "end_time": "2021-10-14T13:40:44.022965Z",
     "start_time": "2021-10-14T13:40:44.005964Z"
    }
   },
   "outputs": [],
   "source": [
    "import numpy as np\n",
    "import pandas as pd\n",
    "import seaborn as sns\n",
    "import matplotlib.pyplot as plt\n",
    "\n",
    "from bs4 import BeautifulSoup\n",
    "from requests import get\n",
    "import itertools\n",
    "\n",
    "from tqdm.notebook import tqdm, trange\n",
    "import time "
   ]
  },
  {
   "cell_type": "markdown",
   "id": "0cc67547",
   "metadata": {},
   "source": [
    "### O quanto as inidcações do partido afetam no voto dos deputados?\n",
    "\n",
    "A primeira coisa que eu queria explorar era a relação entre o voto dos deputados e o voto indicado pelos partidos. O que temos para analisar isso são como cada deputado votou em 1200 votações da câmara e o que cada partido orientou aos seus deputados em 1200 votações. Esse dois conjuntos de votações não necessariamente são iguais, de modo que algumas votações só existem no ocnjunto dos deputados e algumas só no conjunto dos partidos. O primeiro passo é importar os datasets com que iremos trabalhar:"
   ]
  },
  {
   "cell_type": "code",
   "execution_count": 20,
   "id": "5b81cc8a",
   "metadata": {
    "ExecuteTime": {
     "end_time": "2021-10-14T13:42:27.724130Z",
     "start_time": "2021-10-14T13:42:27.295243Z"
    }
   },
   "outputs": [
    {
     "name": "stderr",
     "output_type": "stream",
     "text": [
      "C:\\ProgramData\\Anaconda3\\lib\\site-packages\\IPython\\core\\interactiveshell.py:3165: DtypeWarning: Columns (1,2,3,4,5,6,7,8,9,10,11,12,13,14,15,16,17,18,19,20,21,47,67,69,113,166,182,190,206,229,230,248,258,626,640,644,742,753,754,763,783,805,834,835,909,981,987,1001,1002,1019,1045,1047,1056,1079,1117,1140,1152,1155,1171,1184,1185) have mixed types.Specify dtype option on import or set low_memory=False.\n",
      "  has_raised = await self.run_ast_nodes(code_ast.body, cell_name,\n"
     ]
    }
   ],
   "source": [
    "votos = pd.read_csv(r'data\\votos.csv')\n",
    "orientacoes = pd.read_csv(r'data/orientacoes.csv')\n",
    "deputados = pd.read_csv(r'data/deputados.csv')\n",
    "df_indexed = deputados.merge(votos, left_on='id',\n",
    "                             right_on='cod_deputado')\n",
    "\n",
    "df_indexed= df_indexed.set_index('id')"
   ]
  },
  {
   "cell_type": "markdown",
   "id": "9f76b9b5",
   "metadata": {},
   "source": [
    "O dataset da câmara dos deputados disponibiliza as orientações dos partidos dividindo-as entre orientações do partido e orientações do bloco. Como minha intensão era de usar esse dado dos partidos como indice do dataset, eu combinei o tipo da orientação (se era de partido ou se era de um bloco) como o nome do partido. Então, para ler esse dataset primeiro precisamos re-dividir o tipo do nome dessas instituições por meio do código a seguir:"
   ]
  },
  {
   "cell_type": "code",
   "execution_count": 21,
   "id": "e883fd8c",
   "metadata": {
    "ExecuteTime": {
     "end_time": "2021-10-14T13:42:28.846940Z",
     "start_time": "2021-10-14T13:42:28.823229Z"
    }
   },
   "outputs": [],
   "source": [
    "def read_cod_partido(cod_partido):\n",
    "    if cod_partido[0]=='P':\n",
    "        return ('P', cod_partido[1:])\n",
    "    if cod_partido[0]=='B':\n",
    "        return ('B',cod_partido[1:])\n",
    "    if cod_partido[0]=='N':\n",
    "        if cod_partido[4:] == 'Governo':\n",
    "            return ('B',cod_partido[4:])\n",
    "        else:\n",
    "            return ('P',cod_partido[4:])\n",
    "\n",
    "Part_cod=[read_cod_partido(a) for a in orientacoes.cod_partido]\n",
    "orientacoes['partido']=[a[1] for a in Part_cod]\n",
    "orientacoes['tipo']=[a[0] for a in Part_cod]"
   ]
  },
  {
   "cell_type": "markdown",
   "id": "d645ff9b",
   "metadata": {},
   "source": [
    "Divido o tipo do nome agora é preciso explorar os partidos que existem no dataset dos deputados e os partidos que existem no dataset das orientações. Primeiro coloquemos os dois como maiúsculas, depois é so comparar os dois sets."
   ]
  },
  {
   "cell_type": "code",
   "execution_count": 22,
   "id": "7b73374f",
   "metadata": {
    "ExecuteTime": {
     "end_time": "2021-10-14T13:42:29.224177Z",
     "start_time": "2021-10-14T13:42:29.211175Z"
    },
    "scrolled": true
   },
   "outputs": [
    {
     "name": "stdout",
     "output_type": "stream",
     "text": [
      "partidos do dataset deputados : {'MDB', 'PCDOB', 'PV', 'PSDB', 'PSC', 'PP', 'REDE', 'PT', 'PSB', 'PTB', 'PSOL', 'PROS', 'AVANTE', 'NOVO', 'REPUBLICANOS', 'PDT', 'PSL', 'PATRIOTA', 'CIDADANIA', 'PODE', 'PSD', 'SOLIDARIEDADE', 'DEM', 'PL'} \n",
      "\n",
      "partidos do dataset orinetações : {'PCDOB', 'PV', 'MDB', 'PSDB', 'PSC', 'PRB', 'PMN', 'PP', 'REDE', 'PT', 'PPL', 'PSB', 'PR', 'PTB', 'PSOL', 'PROS', 'PPS', 'AVANTE', 'NOVO', 'PRP', 'REPUBLICANOS', 'PDT', 'PATRIOTA', 'PSL', 'PATRI', 'CIDADANIA', 'PODEMOS', 'REPUBLICAN', 'PODE', 'PHS', 'PSD', 'SOLIDARIEDADE', 'SOLIDARIED', 'DEM', 'PL'} \n",
      "\n",
      "partidos que existem só no dataset das orientações:  {'REPUBLICAN', 'PPS', 'PHS', 'PRP', 'PPL', 'SOLIDARIED', 'PATRI', 'PR', 'PRB', 'PMN', 'PODEMOS'} \n",
      "\n",
      "partidos que existem só no dataset dos deputados:  set() \n",
      "\n"
     ]
    }
   ],
   "source": [
    "partidos_deputados=set((deputados.siglaPartido.str.upper().unique()))\n",
    "\n",
    "partidos_orientacoes= set(orientacoes[orientacoes.tipo=='P'].partido.str.upper())\n",
    "\n",
    "\n",
    "print('partidos do dataset deputados :', partidos_deputados,'\\n')\n",
    "print('partidos do dataset orinetações :', partidos_orientacoes,'\\n')\n",
    "print('partidos que existem só no dataset das orientações: ',partidos_orientacoes-partidos_deputados,'\\n')\n",
    "print('partidos que existem só no dataset dos deputados: ',partidos_deputados-partidos_orientacoes,'\\n')"
   ]
  },
  {
   "cell_type": "markdown",
   "id": "19be5b25",
   "metadata": {},
   "source": [
    "Aqui vemos que alguns partidos no dataset das orientações estão com nome errado ('PATRI', 'SOLIDARIED') e outros que não existem mais e foram aglutinados por outros partidos (como o PPL que virou parte do PCDOB). Para contornar isso eu decidi mudar essas categorias com alguma equivalencia usando um mapa/dicionario, como mostra o código a seguir:"
   ]
  },
  {
   "cell_type": "code",
   "execution_count": 23,
   "id": "996a2098",
   "metadata": {
    "ExecuteTime": {
     "end_time": "2021-10-14T13:42:29.855600Z",
     "start_time": "2021-10-14T13:42:29.832599Z"
    }
   },
   "outputs": [
    {
     "data": {
      "text/plain": [
       "array(['PT', 'PSLPPPSD...', 'GOVERNO', 'NOVO', 'PSOL', 'CIDADANIA', 'PSB',\n",
       "       'PDTSDPODE...', 'PATRIOTA', 'MINORIA', 'OPOSIÇÃO', 'PROS', 'REDE',\n",
       "       'PR', 'PSL', 'PPMDBPTB', 'DEM', 'SOLIDARIEDADE', 'PCDOB', 'PV',\n",
       "       'PSC', 'PODEMOS', 'PSDB', 'PSD', 'MAIORIA', 'REPUBLICANOS',\n",
       "       'PDTAVANTE', 'PP', 'PTB', 'AVANTE', 'MDB', 'PODE', 'PDT',\n",
       "       'PDTPROS...', 'PPPRPSD', 'PHS', 'PDTPODEPROS...', 'PL', 'PMN'],\n",
       "      dtype=object)"
      ]
     },
     "execution_count": 23,
     "metadata": {},
     "output_type": "execute_result"
    }
   ],
   "source": [
    "map_partidos={'PATRI':'PATRIOTA',\n",
    "             'REPUBLICAN':'REPUBLICANOS',\n",
    "             'SOLIDARIED':'SOLIDARIEDADE',\n",
    "             'PRP': 'PATRIOTA',\n",
    "             'PRB':'REPUBLICANOS',\n",
    "             'PPL': 'PCDOB',\n",
    "             'PPS': 'CIDADANIA',\n",
    "             'GOV.': 'GOVERNO'}\n",
    "\n",
    "orientacoes['partido']=orientacoes.partido.str.upper().astype('category')\n",
    "\n",
    "recats = {}\n",
    "for cat in orientacoes['partido']:\n",
    "    if cat in map_partidos:\n",
    "        recats[cat] = map_partidos[cat]\n",
    "    else:\n",
    "        recats[cat] = cat\n",
    "        \n",
    "orientacoes['partido']=orientacoes.partido.apply(lambda x: recats[x])\n",
    "orientacoes.partido.unique()"
   ]
  },
  {
   "cell_type": "markdown",
   "id": "13ce9c2a",
   "metadata": {},
   "source": [
    "Feito isso hora de medir o quanto cada deputado concorda com seu partido. Para isso eu preferi usar um for, que interage com os ids de cada deputado e compara se o que cada deputado votou bate com o que seu partido indicou nas votações. Como tem um número alto de dados faltantes é preciso levar isso em conta nesse for. O que eu usei como parametro foi a razão entre os dados que estão iguais e o numero total de dados que não estão faltando."
   ]
  },
  {
   "cell_type": "code",
   "execution_count": 24,
   "id": "9b1c9670",
   "metadata": {
    "ExecuteTime": {
     "end_time": "2021-10-14T14:16:26.666982Z",
     "start_time": "2021-10-14T13:42:29.883601Z"
    }
   },
   "outputs": [],
   "source": [
    "votacoes_orientacoes=orientacoes.columns.drop(['cod_partido', 'tipo', 'partido']) #lista com o codigo das votações\n",
    "orientacoes= orientacoes.drop_duplicates('partido', keep='first') #o dataset so com as orientações sobre as votações\n",
    "\n",
    "concordancia={}\n",
    "\n",
    "for dep in df_indexed.index:\n",
    "    count = 0\n",
    "    total_count = 0\n",
    "    for vot in votacoes_orientacoes:\n",
    "        if (orientacoes[orientacoes.partido == df_indexed.loc[dep].\n",
    "                       siglaPartido][vot].isna().any() == True) or (str(df_indexed.loc[dep][vot])=='nan'):\n",
    "            continue\n",
    "        else:\n",
    "            total_count += 1\n",
    "            if orientacoes[orientacoes.partido\n",
    "                           == df_indexed.loc[dep].siglaPartido][vot].any()== df_indexed.loc[dep][vot]:\n",
    "                count += 1\n",
    "    if total_count == 0:\n",
    "        total_count=1\n",
    "    concordancia[dep]=count/total_count"
   ]
  },
  {
   "cell_type": "markdown",
   "id": "6d5002fe",
   "metadata": {},
   "source": [
    "Hora de ver como se compara a concordancia dos deputados com os partidos. Para tal eu preferi fazer através de um histograma, como mostra o código a seguir:"
   ]
  },
  {
   "cell_type": "code",
   "execution_count": 43,
   "id": "d4ee2e9c",
   "metadata": {
    "ExecuteTime": {
     "end_time": "2021-10-14T14:28:31.380845Z",
     "start_time": "2021-10-14T14:28:31.120906Z"
    }
   },
   "outputs": [
    {
     "ename": "TypeError",
     "evalue": "title() missing 1 required positional argument: 'label'",
     "output_type": "error",
     "traceback": [
      "\u001b[1;31m---------------------------------------------------------------------------\u001b[0m",
      "\u001b[1;31mTypeError\u001b[0m                                 Traceback (most recent call last)",
      "\u001b[1;32m<ipython-input-43-2af9a45bd0bb>\u001b[0m in \u001b[0;36m<module>\u001b[1;34m\u001b[0m\n\u001b[0;32m      3\u001b[0m \u001b[0mplt\u001b[0m\u001b[1;33m.\u001b[0m\u001b[0mylabel\u001b[0m\u001b[1;33m(\u001b[0m\u001b[1;34m'quantidade de deputados'\u001b[0m\u001b[1;33m)\u001b[0m\u001b[1;33m\u001b[0m\u001b[1;33m\u001b[0m\u001b[0m\n\u001b[0;32m      4\u001b[0m \u001b[0mplt\u001b[0m\u001b[1;33m.\u001b[0m\u001b[0mxlabel\u001b[0m\u001b[1;33m(\u001b[0m\u001b[1;34m'fração de concordancia dos deputados'\u001b[0m\u001b[1;33m)\u001b[0m\u001b[1;33m\u001b[0m\u001b[1;33m\u001b[0m\u001b[0m\n\u001b[1;32m----> 5\u001b[1;33m \u001b[0mplt\u001b[0m\u001b[1;33m.\u001b[0m\u001b[0mtitle\u001b[0m\u001b[1;33m(\u001b[0m\u001b[1;33m)\u001b[0m\u001b[1;33m\u001b[0m\u001b[1;33m\u001b[0m\u001b[0m\n\u001b[0m",
      "\u001b[1;31mTypeError\u001b[0m: title() missing 1 required positional argument: 'label'"
     ]
    },
    {
     "data": {
      "image/png": "[encoded data removed]",
      "text/plain": [
       "<Figure size 432x288 with 1 Axes>"
      ]
     },
     "metadata": {
      "needs_background": "light"
     },
     "output_type": "display_data"
    }
   ],
   "source": [
    "concord=pd.DataFrame({'concordancia':concordancia}) #dataset com o quanto cada deputado concorda com seu partido\n",
    "concord[concord.concordancia!=0].hist(bins=20)\n",
    "plt.ylabel('quantidade de deputados')\n",
    "plt.xlabel('fração de concordancia dos deputados')\n",
    "plt.title()"
   ]
  },
  {
   "cell_type": "code",
   "execution_count": 40,
   "id": "94f927e2",
   "metadata": {
    "ExecuteTime": {
     "end_time": "2021-10-14T14:21:18.197281Z",
     "start_time": "2021-10-14T14:21:18.156281Z"
    }
   },
   "outputs": [
    {
     "data": {
      "text/html": [
       "<div>\n",
       "<style scoped>\n",
       "    .dataframe tbody tr th:only-of-type {\n",
       "        vertical-align: middle;\n",
       "    }\n",
       "\n",
       "    .dataframe tbody tr th {\n",
       "        vertical-align: top;\n",
       "    }\n",
       "\n",
       "    .dataframe thead th {\n",
       "        text-align: right;\n",
       "    }\n",
       "</style>\n",
       "<table border=\"1\" class=\"dataframe\">\n",
       "  <thead>\n",
       "    <tr style=\"text-align: right;\">\n",
       "      <th></th>\n",
       "      <th>nome</th>\n",
       "      <th>siglaUf</th>\n",
       "      <th>siglaPartido</th>\n",
       "      <th>idLegislatura</th>\n",
       "      <th>cod_deputado</th>\n",
       "      <th>2083376-58</th>\n",
       "      <th>2160860-213</th>\n",
       "      <th>2160860-202</th>\n",
       "      <th>2160860-198</th>\n",
       "      <th>2160860-190</th>\n",
       "      <th>...</th>\n",
       "      <th>2292163-88</th>\n",
       "      <th>2292163-85</th>\n",
       "      <th>2292163-81</th>\n",
       "      <th>2292163-77</th>\n",
       "      <th>2292163-72</th>\n",
       "      <th>2292163-66</th>\n",
       "      <th>2293710-37</th>\n",
       "      <th>2297870-6</th>\n",
       "      <th>2297849-7</th>\n",
       "      <th>2297227-10</th>\n",
       "    </tr>\n",
       "  </thead>\n",
       "  <tbody>\n",
       "    <tr>\n",
       "      <th>160541</th>\n",
       "      <td>Arthur Lira</td>\n",
       "      <td>AL</td>\n",
       "      <td>PP</td>\n",
       "      <td>56</td>\n",
       "      <td>160541</td>\n",
       "      <td>NaN</td>\n",
       "      <td>NaN</td>\n",
       "      <td>NaN</td>\n",
       "      <td>NaN</td>\n",
       "      <td>NaN</td>\n",
       "      <td>...</td>\n",
       "      <td>Artigo 17</td>\n",
       "      <td>Artigo 17</td>\n",
       "      <td>Artigo 17</td>\n",
       "      <td>Artigo 17</td>\n",
       "      <td>Artigo 17</td>\n",
       "      <td>Artigo 17</td>\n",
       "      <td>Artigo 17</td>\n",
       "      <td>Artigo 17</td>\n",
       "      <td>Artigo 17</td>\n",
       "      <td>Artigo 17</td>\n",
       "    </tr>\n",
       "    <tr>\n",
       "      <th>204366</th>\n",
       "      <td>Rodrigo Coelho</td>\n",
       "      <td>SC</td>\n",
       "      <td>PSB</td>\n",
       "      <td>56</td>\n",
       "      <td>204366</td>\n",
       "      <td>Não</td>\n",
       "      <td>Sim</td>\n",
       "      <td>Não</td>\n",
       "      <td>Não</td>\n",
       "      <td>Não</td>\n",
       "      <td>...</td>\n",
       "      <td>Sim</td>\n",
       "      <td>Sim</td>\n",
       "      <td>Não</td>\n",
       "      <td>Sim</td>\n",
       "      <td>Não</td>\n",
       "      <td>Sim</td>\n",
       "      <td>Sim</td>\n",
       "      <td>NaN</td>\n",
       "      <td>Não</td>\n",
       "      <td>Não</td>\n",
       "    </tr>\n",
       "    <tr>\n",
       "      <th>69871</th>\n",
       "      <td>Bacelar</td>\n",
       "      <td>BA</td>\n",
       "      <td>PODE</td>\n",
       "      <td>56</td>\n",
       "      <td>69871</td>\n",
       "      <td>NaN</td>\n",
       "      <td>Não</td>\n",
       "      <td>Sim</td>\n",
       "      <td>Sim</td>\n",
       "      <td>Não</td>\n",
       "      <td>...</td>\n",
       "      <td>Não</td>\n",
       "      <td>Sim</td>\n",
       "      <td>Sim</td>\n",
       "      <td>Sim</td>\n",
       "      <td>Sim</td>\n",
       "      <td>Não</td>\n",
       "      <td>Sim</td>\n",
       "      <td>Não</td>\n",
       "      <td>Não</td>\n",
       "      <td>Sim</td>\n",
       "    </tr>\n",
       "    <tr>\n",
       "      <th>74273</th>\n",
       "      <td>Jefferson Campos</td>\n",
       "      <td>SP</td>\n",
       "      <td>PSB</td>\n",
       "      <td>56</td>\n",
       "      <td>74273</td>\n",
       "      <td>NaN</td>\n",
       "      <td>Não</td>\n",
       "      <td>Sim</td>\n",
       "      <td>NaN</td>\n",
       "      <td>Não</td>\n",
       "      <td>...</td>\n",
       "      <td>Sim</td>\n",
       "      <td>Sim</td>\n",
       "      <td>Não</td>\n",
       "      <td>Sim</td>\n",
       "      <td>Sim</td>\n",
       "      <td>Não</td>\n",
       "      <td>Sim</td>\n",
       "      <td>Não</td>\n",
       "      <td>Sim</td>\n",
       "      <td>Sim</td>\n",
       "    </tr>\n",
       "    <tr>\n",
       "      <th>204403</th>\n",
       "      <td>Marlon Santos</td>\n",
       "      <td>RS</td>\n",
       "      <td>PDT</td>\n",
       "      <td>56</td>\n",
       "      <td>204403</td>\n",
       "      <td>NaN</td>\n",
       "      <td>Não</td>\n",
       "      <td>Sim</td>\n",
       "      <td>NaN</td>\n",
       "      <td>Não</td>\n",
       "      <td>...</td>\n",
       "      <td>Não</td>\n",
       "      <td>Sim</td>\n",
       "      <td>Sim</td>\n",
       "      <td>Não</td>\n",
       "      <td>Sim</td>\n",
       "      <td>Não</td>\n",
       "      <td>Sim</td>\n",
       "      <td>Não</td>\n",
       "      <td>Sim</td>\n",
       "      <td>Sim</td>\n",
       "    </tr>\n",
       "  </tbody>\n",
       "</table>\n",
       "<p>5 rows × 1236 columns</p>\n",
       "</div>"
      ],
      "text/plain": [
       "                    nome siglaUf siglaPartido  idLegislatura  cod_deputado  \\\n",
       "160541       Arthur Lira      AL           PP             56        160541   \n",
       "204366    Rodrigo Coelho      SC          PSB             56        204366   \n",
       "69871            Bacelar      BA         PODE             56         69871   \n",
       "74273   Jefferson Campos      SP          PSB             56         74273   \n",
       "204403     Marlon Santos      RS          PDT             56        204403   \n",
       "\n",
       "       2083376-58 2160860-213 2160860-202 2160860-198 2160860-190  ...  \\\n",
       "160541        NaN         NaN         NaN         NaN         NaN  ...   \n",
       "204366        Não         Sim         Não         Não         Não  ...   \n",
       "69871         NaN         Não         Sim         Sim         Não  ...   \n",
       "74273         NaN         Não         Sim         NaN         Não  ...   \n",
       "204403        NaN         Não         Sim         NaN         Não  ...   \n",
       "\n",
       "       2292163-88 2292163-85 2292163-81 2292163-77 2292163-72 2292163-66  \\\n",
       "160541  Artigo 17  Artigo 17  Artigo 17  Artigo 17  Artigo 17  Artigo 17   \n",
       "204366        Sim        Sim        Não        Sim        Não        Sim   \n",
       "69871         Não        Sim        Sim        Sim        Sim        Não   \n",
       "74273         Sim        Sim        Não        Sim        Sim        Não   \n",
       "204403        Não        Sim        Sim        Não        Sim        Não   \n",
       "\n",
       "       2293710-37  2297870-6  2297849-7 2297227-10  \n",
       "160541  Artigo 17  Artigo 17  Artigo 17  Artigo 17  \n",
       "204366        Sim        NaN        Não        Não  \n",
       "69871         Sim        Não        Não        Sim  \n",
       "74273         Sim        Não        Sim        Sim  \n",
       "204403        Sim        Não        Sim        Sim  \n",
       "\n",
       "[5 rows x 1236 columns]"
      ]
     },
     "execution_count": 40,
     "metadata": {},
     "output_type": "execute_result"
    }
   ],
   "source": [
    "df_indexed.loc[concord[concord.concordancia!=0].sort_values('concordancia').head().index]"
   ]
  },
  {
   "cell_type": "code",
   "execution_count": 42,
   "id": "1c54e16a",
   "metadata": {
    "ExecuteTime": {
     "end_time": "2021-10-14T14:21:54.060626Z",
     "start_time": "2021-10-14T14:21:54.039613Z"
    }
   },
   "outputs": [
    {
     "data": {
      "text/html": [
       "<div>\n",
       "<style scoped>\n",
       "    .dataframe tbody tr th:only-of-type {\n",
       "        vertical-align: middle;\n",
       "    }\n",
       "\n",
       "    .dataframe tbody tr th {\n",
       "        vertical-align: top;\n",
       "    }\n",
       "\n",
       "    .dataframe thead th {\n",
       "        text-align: right;\n",
       "    }\n",
       "</style>\n",
       "<table border=\"1\" class=\"dataframe\">\n",
       "  <thead>\n",
       "    <tr style=\"text-align: right;\">\n",
       "      <th></th>\n",
       "      <th>concordancia</th>\n",
       "    </tr>\n",
       "  </thead>\n",
       "  <tbody>\n",
       "    <tr>\n",
       "      <th>160541</th>\n",
       "      <td>0.232500</td>\n",
       "    </tr>\n",
       "    <tr>\n",
       "      <th>204366</th>\n",
       "      <td>0.337243</td>\n",
       "    </tr>\n",
       "    <tr>\n",
       "      <th>69871</th>\n",
       "      <td>0.361564</td>\n",
       "    </tr>\n",
       "    <tr>\n",
       "      <th>74273</th>\n",
       "      <td>0.411697</td>\n",
       "    </tr>\n",
       "    <tr>\n",
       "      <th>204403</th>\n",
       "      <td>0.473046</td>\n",
       "    </tr>\n",
       "  </tbody>\n",
       "</table>\n",
       "</div>"
      ],
      "text/plain": [
       "        concordancia\n",
       "160541      0.232500\n",
       "204366      0.337243\n",
       "69871       0.361564\n",
       "74273       0.411697\n",
       "204403      0.473046"
      ]
     },
     "execution_count": 42,
     "metadata": {},
     "output_type": "execute_result"
    }
   ],
   "source": [
    "concord[concord.concordancia!=0].sort_values('concordancia').head()"
   ]
  },
  {
   "cell_type": "markdown",
   "id": "3231d3b9",
   "metadata": {},
   "source": [
    "Aqui vemos que os deputados costumam concordar bem com os partidos. A maior parte concorda entre 90% a 100% com seus partidos. Isso significa que para os deputados que não estão presentes nas votações, podemos substituir, se existir, com a orientação de seu partido.\n",
    "\n",
    "### Imputando dados faltantes dos partidos\n",
    "\n",
    "Esse tipo de procedimento é bem simples de se fazer. A maneira mais tranquila, na minha visão, é usando uma tabela como pivot para essa comparação. ela contem os mesmos dados que as orientações dos partidos, mas agora organizado de acordo com cada deputado ao invez de cada partido."
   ]
  },
  {
   "cell_type": "code",
   "execution_count": 53,
   "id": "b9706803",
   "metadata": {
    "ExecuteTime": {
     "end_time": "2021-10-07T17:15:38.826280Z",
     "start_time": "2021-10-07T17:15:38.256241Z"
    }
   },
   "outputs": [],
   "source": [
    "fillna_pivot = pd.merge(df_indexed[['siglaPartido']], orientacoes, how='left', left_on='siglaPartido', right_on='partido')\n",
    "df_indexed[votacoes_orientacoes] = df_indexed[votacoes_orientacoes].fillna(fillna_pivot[votacoes_orientacoes])"
   ]
  },
  {
   "cell_type": "markdown",
   "id": "5b3870a7",
   "metadata": {},
   "source": [
    "### Limpeza do dataset\n",
    "\n",
    "Sera que mesmo depois de preencher os dados faltantes com o que dava ainda tem muitos valores faltando? é o que eu decidi investigar com esse histograma aqui:"
   ]
  },
  {
   "cell_type": "code",
   "execution_count": 26,
   "id": "9a5ad791",
   "metadata": {
    "ExecuteTime": {
     "end_time": "2021-10-14T14:16:27.314692Z",
     "start_time": "2021-10-14T14:16:27.051924Z"
    }
   },
   "outputs": [
    {
     "data": {
      "text/plain": [
       "Text(0, 0.5, 'quantidade')"
      ]
     },
     "execution_count": 26,
     "metadata": {},
     "output_type": "execute_result"
    },
    {
     "data": {
      "image/png": "[encoded data removed]",
      "text/plain": [
       "<Figure size 432x288 with 1 Axes>"
      ]
     },
     "metadata": {
      "needs_background": "light"
     },
     "output_type": "display_data"
    }
   ],
   "source": [
    "votacoes_df_indexed=df_indexed.columns.drop(['nome','siglaUf', 'siglaPartido', 'idLegislatura', 'cod_deputado'])\n",
    "df_indexed[votacoes_df_indexed].isna().mean().hist(bins=30)\n",
    "plt.title('histograma de fração de votos nulos em votações')\n",
    "plt.xlabel('fração de dados nulos na votação')\n",
    "plt.ylabel('quantidade')"
   ]
  },
  {
   "cell_type": "markdown",
   "id": "c1052979",
   "metadata": {},
   "source": [
    "Vemos que um grande número de votações tem mais de 80% de seus dados em falta, e esse tipo de dado não vale a pena de manter no dataset dado que os dados que ja temos são suficientes para uma clusterização razoavel dos dados. O parametro eu eu usei foi de que, se tiver mais que 40% dos dados em falta essa votação pode ser excluída."
   ]
  },
  {
   "cell_type": "code",
   "execution_count": 294,
   "id": "fd80bd79",
   "metadata": {
    "ExecuteTime": {
     "end_time": "2021-10-02T23:11:32.297157Z",
     "start_time": "2021-10-02T23:11:32.279145Z"
    }
   },
   "outputs": [],
   "source": [
    "votacoes_df_indexed_04=votacoes_df_indexed[df_indexed[votacoes_df_indexed].isna().mean()>=0.4]\n",
    "votacoes_df_indexed_clean=votacoes_df_indexed.drop(votacoes_df_indexed_04)\n",
    "df_indexed_clean=df_indexed.drop(votacoes_df_indexed_04, axis=1)"
   ]
  },
  {
   "cell_type": "markdown",
   "id": "16a75ff0",
   "metadata": {},
   "source": [
    "### Numerização dos dados\n",
    "\n",
    "O ultimo passo realizado nessa parte do projeto foi transformar o que foi votado por cada deputado em algo numérico. Isso é um procedimento necessario porque a maioria dos métodos de clusterização trabalha com valores numericos e meio geometricos, então não da para tentar processar 'Sim' e 'Não', é preciso transformar em 1 e 0. O modelo de numerização nesse caso foi a de que: se algum deputado votou 'Sim' esse voto vira 1, se algum deputado votou 'Não' esse voto vira 0, e qualquer outra opção ('Obstrução', 'Abstenção', 'Artigo-17'). Aqui eu ja salvei os dados limpos em um único dataset, para ser usado na ultima parte desse projeto."
   ]
  },
  {
   "cell_type": "code",
   "execution_count": 298,
   "id": "7374d2fb",
   "metadata": {
    "ExecuteTime": {
     "end_time": "2021-10-02T23:11:58.376717Z",
     "start_time": "2021-10-02T23:11:58.066696Z"
    }
   },
   "outputs": [],
   "source": [
    "for col in votacoes_df_indexed_clean:\n",
    "    majority=df_indexed_clean[col].value_counts().index[0]\n",
    "    if majority=='Sim':\n",
    "        majority_num=1\n",
    "    if majority=='Não':\n",
    "        majority_num=0\n",
    "    df_indexed_clean[col]=df_indexed_clean[col].fillna(0.5)\n",
    "    votes_map={'Sim': 1, 'Não':0, 'Obstrução':0.5, 'Artigo 17':0.5, 'Abstenção':0.5, 0.5:0.5}\n",
    "    df_indexed_clean[col]=df_indexed_clean[col].apply(lambda x: votes_map[x])\n",
    "    #df_indexed_clean[col]=df_indexed_clean[col].astype('category')\n",
    "\n",
    "df_indexed_clean.siglaUf=df_indexed_clean.siglaUf.astype('category')\n",
    "df_indexed_clean.to_csv(r'data/df.csv')"
   ]
  },
  {
   "cell_type": "markdown",
   "id": "3863a6c3",
   "metadata": {},
   "source": [
    "### Próximos passos\n",
    "\n",
    "\n",
    "Agora que os dados foram limpos e tratados é hora de fazer a clusterização e outros procedimentos exploratórios sobre o comportamento dos parlamentares. Isso foi realizado nesse artigo aqui: LINK_3. Detalhes sobre como foram extraidos esses dados da camara dos deputados encontram-se nesse artigo aqui: LINK_2."
   ]
  }
 ],
 "metadata": {
  "hide_input": false,
  "kernelspec": {
   "display_name": "Python 3",
   "language": "python",
   "name": "python3"
  },
  "language_info": {
   "codemirror_mode": {
    "name": "ipython",
    "version": 3
   },
   "file_extension": ".py",
   "mimetype": "text/x-python",
   "name": "python",
   "nbconvert_exporter": "python",
   "pygments_lexer": "ipython3",
   "version": "3.8.8"
  },
  "varInspector": {
   "cols": {
    "lenName": 16,
    "lenType": 16,
    "lenVar": 40
   },
   "kernels_config": {
    "python": {
     "delete_cmd_postfix": "",
     "delete_cmd_prefix": "del ",
     "library": "var_list.py",
     "varRefreshCmd": "print(var_dic_list())"
    },
    "r": {
     "delete_cmd_postfix": ") ",
     "delete_cmd_prefix": "rm(",
     "library": "var_list.r",
     "varRefreshCmd": "cat(var_dic_list()) "
    }
   },
   "types_to_exclude": [
    "module",
    "function",
    "builtin_function_or_method",
    "instance",
    "_Feature"
   ],
   "window_display": false
  }
 },
 "nbformat": 4,
 "nbformat_minor": 5
}
